{
  "nbformat": 4,
  "nbformat_minor": 0,
  "metadata": {
    "colab": {
      "name": "Cópia de im_dados4_alura_aula05.ipynb",
      "provenance": [],
      "collapsed_sections": [
        "W1Bo991Sng23",
        "9TGun5-shlMK"
      ],
      "mount_file_id": "1BG53-S7Alkc20HiDpGKrkugjNw3j4ZPD",
      "authorship_tag": "ABX9TyPc2CRi4wy5W8HBmpl0Lm2P",
      "include_colab_link": true
    },
    "kernelspec": {
      "name": "python3",
      "display_name": "Python 3"
    },
    "language_info": {
      "name": "python"
    }
  },
  "cells": [
    {
      "cell_type": "markdown",
      "metadata": {
        "id": "view-in-github",
        "colab_type": "text"
      },
      "source": [
        "<a href=\"https://colab.research.google.com/github/vsommah/im_dados4_alura/blob/main/C%C3%B3pia_de_im_dados4_alura_aula05.ipynb\" target=\"_parent\"><img src=\"https://colab.research.google.com/assets/colab-badge.svg\" alt=\"Open In Colab\"/></a>"
      ]
    },
    {
      "cell_type": "markdown",
      "source": [
        "<p>\n",
        "      <img alt='Miniatura de uma casa à venda' src=\"https://drive.google.com/uc?export=view&id=1UcLkGTtpbyKJXPQHefN26EsATNZGTZCq\" align=\"right\" height=\"200\" width=\"200\"> <br>\n",
        "      <h1 align=\"center\">IMERSÃO DADOS 4 - ALURA</h1> <br>\n",
        "      <h2 align=\"center\">PESQUISA DE IMÓVEIS EM SÃO PAULO</h2> <br>\n",
        "</p>"
      ],
      "metadata": {
        "id": "j3HGhkmgJLfe"
      }
    },
    {
      "cell_type": "markdown",
      "source": [
        "# **AULA 05** 📓"
      ],
      "metadata": {
        "id": "gjEKZAWXkvK8"
      }
    },
    {
      "cell_type": "markdown",
      "source": [
        "## **Base aulas anteriores**"
      ],
      "metadata": {
        "id": "W1Bo991Sng23"
      }
    },
    {
      "cell_type": "code",
      "source": [
        "# criaremos um caderno novo e vamos importar os dados de uma df disponibilizada\n",
        "# já com as as colunas que iremos utilizar para essa aula\n",
        "\n",
        "import pandas as pd\n",
        "import seaborn as sns\n",
        "import matplotlib.pyplot as plt\n",
        "import numpy as np\n",
        "\n",
        "pd.set_option(\"display.precision\", 2)\n",
        "pd.set_option('display.float_format', lambda x: '%.2f' % x)\n",
        "sns.set()\n",
        "\n",
        "dados_vendas_censo = pd.read_csv('/content/drive/MyDrive/Colab Notebooks/imersão_dados_alura/dados_vendas_censo.csv')\n",
        "dados_vendas_censo = dados_vendas_censo[['Rua', 'Bairro', 'Cidade', 'Metragem', 'Quartos', 'Banheiros', 'Vagas',\n",
        "       'Valor_anuncio', 'Valor_mm', 'Valor_m2', 'latitude', 'longitude', 'Situacao_setor', 'V001',\n",
        "       'V002', 'V003', 'V004', 'V005', 'V006', 'V007', 'V008', 'V009', 'V010',\n",
        "       'V011', 'V012']].dropna()\n",
        "dados_vendas_censo"
      ],
      "metadata": {
        "colab": {
          "base_uri": "https://localhost:8080/",
          "height": 0
        },
        "id": "jCJZkK46tsHa",
        "outputId": "44301bef-d578-4fa3-9d68-31a79896eac7"
      },
      "execution_count": 71,
      "outputs": [
        {
          "output_type": "execute_result",
          "data": {
            "text/plain": [
              "                                 Rua              Bairro     Cidade  Metragem  \\\n",
              "0              Avenida Itacira, 255    Planalto Paulista  São Paulo      1000   \n",
              "1     Rua Aurelia Perez Alvarez, 42   Jardim dos Estados  São Paulo       496   \n",
              "2                    Rua Alba Valdez     Jardim Reimberg  São Paulo       125   \n",
              "3           Rua Tobias Barreto, 195                Mooca  São Paulo       100   \n",
              "4                    Rua Graham Bell         Santo Amaro  São Paulo       440   \n",
              "...                              ...                 ...        ...       ...   \n",
              "5599              Rua Pedro Teixeira        Vila Olímpia  São Paulo       157   \n",
              "5600                   Avenida Odila   Planalto Paulista  São Paulo       267   \n",
              "5601                      Rua Tapuçu          Vila Sofia  São Paulo        95   \n",
              "5603               Rua Estero Belaco       Vila da Saúde  São Paulo       205   \n",
              "5604      Rua Barão de Tramandaí, 0          Vila Alpina  São Paulo       122   \n",
              "\n",
              "      Quartos  Banheiros  Vagas  Valor_anuncio  Valor_mm  Valor_m2  ...  V003  \\\n",
              "0           4          8      6     7000000.00      7.00   7000.00  ...  2.66   \n",
              "1           4          4      4     3700000.00      3.70   7459.68  ...  3.13   \n",
              "2           4          3      2      380000.00      0.38   3040.00  ...  3.47   \n",
              "3           3          2      2      540000.00      0.54   5400.00  ...  3.00   \n",
              "4           4          4      6     1980000.00      1.98   4500.00  ...  3.51   \n",
              "...       ...        ...    ...            ...       ...       ...  ...   ...   \n",
              "5599        3          2      2      960000.00      0.96   6114.65  ...  2.17   \n",
              "5600        3          6      4     1500000.00      1.50   5617.98  ...  2.81   \n",
              "5601        2          2      2      665000.00      0.67   7000.00  ...  2.99   \n",
              "5603        3          3      6     1050000.00      1.05   5121.95  ...  2.75   \n",
              "5604        3          2      2      270000.00      0.27   2213.11  ...  2.97   \n",
              "\n",
              "      V004    V005        V006    V007        V008    V009        V010  \\\n",
              "0     2.04 3158.96 22210644.93 5570.65 25770816.97 2096.19 13029851.56   \n",
              "1     1.96 7600.44 36778930.17 7890.53 35886906.64 4149.00 26760682.90   \n",
              "2     3.06  805.13   769188.78 1011.75   757433.42  518.77   426672.78   \n",
              "3     1.99 2338.05  7826370.15 2447.89  7925839.76 1543.29  4646566.16   \n",
              "4     2.31 1026.36   272168.67 1143.96   167733.64  735.67   367088.08   \n",
              "...    ...     ...         ...     ...         ...     ...         ...   \n",
              "5599  1.27 5054.58 33245189.73 5231.93 33485189.78 3649.06 26562232.53   \n",
              "5600  1.60 4249.33 24499871.44 5180.14 25047413.33 2618.76 17705032.31   \n",
              "5601  1.81 2425.09  6878872.25 2543.80  6913867.79 1561.58  4261814.01   \n",
              "5603  1.50 5650.20 20344622.14 5750.84 20127679.27 3459.68 16021825.60   \n",
              "5604  1.75 1244.10  1353001.23 1364.89  1319336.96  895.93   988708.13   \n",
              "\n",
              "        V011        V012  \n",
              "0    3930.35 17241576.74  \n",
              "1    6063.92 27502674.90  \n",
              "2     858.51   414378.88  \n",
              "3    1909.04  5050712.69  \n",
              "4    1086.94   159622.46  \n",
              "...      ...         ...  \n",
              "5599 4551.66 29032823.35  \n",
              "5600 3977.93 21495997.85  \n",
              "5601 2062.09  4596759.57  \n",
              "5603 4362.79 16264378.33  \n",
              "5604 1226.86   947807.31  \n",
              "\n",
              "[5308 rows x 25 columns]"
            ],
            "text/html": [
              "\n",
              "  <div id=\"df-7a60eadd-2441-4439-9af0-6f0b85074d2f\">\n",
              "    <div class=\"colab-df-container\">\n",
              "      <div>\n",
              "<style scoped>\n",
              "    .dataframe tbody tr th:only-of-type {\n",
              "        vertical-align: middle;\n",
              "    }\n",
              "\n",
              "    .dataframe tbody tr th {\n",
              "        vertical-align: top;\n",
              "    }\n",
              "\n",
              "    .dataframe thead th {\n",
              "        text-align: right;\n",
              "    }\n",
              "</style>\n",
              "<table border=\"1\" class=\"dataframe\">\n",
              "  <thead>\n",
              "    <tr style=\"text-align: right;\">\n",
              "      <th></th>\n",
              "      <th>Rua</th>\n",
              "      <th>Bairro</th>\n",
              "      <th>Cidade</th>\n",
              "      <th>Metragem</th>\n",
              "      <th>Quartos</th>\n",
              "      <th>Banheiros</th>\n",
              "      <th>Vagas</th>\n",
              "      <th>Valor_anuncio</th>\n",
              "      <th>Valor_mm</th>\n",
              "      <th>Valor_m2</th>\n",
              "      <th>...</th>\n",
              "      <th>V003</th>\n",
              "      <th>V004</th>\n",
              "      <th>V005</th>\n",
              "      <th>V006</th>\n",
              "      <th>V007</th>\n",
              "      <th>V008</th>\n",
              "      <th>V009</th>\n",
              "      <th>V010</th>\n",
              "      <th>V011</th>\n",
              "      <th>V012</th>\n",
              "    </tr>\n",
              "  </thead>\n",
              "  <tbody>\n",
              "    <tr>\n",
              "      <th>0</th>\n",
              "      <td>Avenida Itacira, 255</td>\n",
              "      <td>Planalto Paulista</td>\n",
              "      <td>São Paulo</td>\n",
              "      <td>1000</td>\n",
              "      <td>4</td>\n",
              "      <td>8</td>\n",
              "      <td>6</td>\n",
              "      <td>7000000.00</td>\n",
              "      <td>7.00</td>\n",
              "      <td>7000.00</td>\n",
              "      <td>...</td>\n",
              "      <td>2.66</td>\n",
              "      <td>2.04</td>\n",
              "      <td>3158.96</td>\n",
              "      <td>22210644.93</td>\n",
              "      <td>5570.65</td>\n",
              "      <td>25770816.97</td>\n",
              "      <td>2096.19</td>\n",
              "      <td>13029851.56</td>\n",
              "      <td>3930.35</td>\n",
              "      <td>17241576.74</td>\n",
              "    </tr>\n",
              "    <tr>\n",
              "      <th>1</th>\n",
              "      <td>Rua Aurelia Perez Alvarez, 42</td>\n",
              "      <td>Jardim dos Estados</td>\n",
              "      <td>São Paulo</td>\n",
              "      <td>496</td>\n",
              "      <td>4</td>\n",
              "      <td>4</td>\n",
              "      <td>4</td>\n",
              "      <td>3700000.00</td>\n",
              "      <td>3.70</td>\n",
              "      <td>7459.68</td>\n",
              "      <td>...</td>\n",
              "      <td>3.13</td>\n",
              "      <td>1.96</td>\n",
              "      <td>7600.44</td>\n",
              "      <td>36778930.17</td>\n",
              "      <td>7890.53</td>\n",
              "      <td>35886906.64</td>\n",
              "      <td>4149.00</td>\n",
              "      <td>26760682.90</td>\n",
              "      <td>6063.92</td>\n",
              "      <td>27502674.90</td>\n",
              "    </tr>\n",
              "    <tr>\n",
              "      <th>2</th>\n",
              "      <td>Rua Alba Valdez</td>\n",
              "      <td>Jardim Reimberg</td>\n",
              "      <td>São Paulo</td>\n",
              "      <td>125</td>\n",
              "      <td>4</td>\n",
              "      <td>3</td>\n",
              "      <td>2</td>\n",
              "      <td>380000.00</td>\n",
              "      <td>0.38</td>\n",
              "      <td>3040.00</td>\n",
              "      <td>...</td>\n",
              "      <td>3.47</td>\n",
              "      <td>3.06</td>\n",
              "      <td>805.13</td>\n",
              "      <td>769188.78</td>\n",
              "      <td>1011.75</td>\n",
              "      <td>757433.42</td>\n",
              "      <td>518.77</td>\n",
              "      <td>426672.78</td>\n",
              "      <td>858.51</td>\n",
              "      <td>414378.88</td>\n",
              "    </tr>\n",
              "    <tr>\n",
              "      <th>3</th>\n",
              "      <td>Rua Tobias Barreto, 195</td>\n",
              "      <td>Mooca</td>\n",
              "      <td>São Paulo</td>\n",
              "      <td>100</td>\n",
              "      <td>3</td>\n",
              "      <td>2</td>\n",
              "      <td>2</td>\n",
              "      <td>540000.00</td>\n",
              "      <td>0.54</td>\n",
              "      <td>5400.00</td>\n",
              "      <td>...</td>\n",
              "      <td>3.00</td>\n",
              "      <td>1.99</td>\n",
              "      <td>2338.05</td>\n",
              "      <td>7826370.15</td>\n",
              "      <td>2447.89</td>\n",
              "      <td>7925839.76</td>\n",
              "      <td>1543.29</td>\n",
              "      <td>4646566.16</td>\n",
              "      <td>1909.04</td>\n",
              "      <td>5050712.69</td>\n",
              "    </tr>\n",
              "    <tr>\n",
              "      <th>4</th>\n",
              "      <td>Rua Graham Bell</td>\n",
              "      <td>Santo Amaro</td>\n",
              "      <td>São Paulo</td>\n",
              "      <td>440</td>\n",
              "      <td>4</td>\n",
              "      <td>4</td>\n",
              "      <td>6</td>\n",
              "      <td>1980000.00</td>\n",
              "      <td>1.98</td>\n",
              "      <td>4500.00</td>\n",
              "      <td>...</td>\n",
              "      <td>3.51</td>\n",
              "      <td>2.31</td>\n",
              "      <td>1026.36</td>\n",
              "      <td>272168.67</td>\n",
              "      <td>1143.96</td>\n",
              "      <td>167733.64</td>\n",
              "      <td>735.67</td>\n",
              "      <td>367088.08</td>\n",
              "      <td>1086.94</td>\n",
              "      <td>159622.46</td>\n",
              "    </tr>\n",
              "    <tr>\n",
              "      <th>...</th>\n",
              "      <td>...</td>\n",
              "      <td>...</td>\n",
              "      <td>...</td>\n",
              "      <td>...</td>\n",
              "      <td>...</td>\n",
              "      <td>...</td>\n",
              "      <td>...</td>\n",
              "      <td>...</td>\n",
              "      <td>...</td>\n",
              "      <td>...</td>\n",
              "      <td>...</td>\n",
              "      <td>...</td>\n",
              "      <td>...</td>\n",
              "      <td>...</td>\n",
              "      <td>...</td>\n",
              "      <td>...</td>\n",
              "      <td>...</td>\n",
              "      <td>...</td>\n",
              "      <td>...</td>\n",
              "      <td>...</td>\n",
              "      <td>...</td>\n",
              "    </tr>\n",
              "    <tr>\n",
              "      <th>5599</th>\n",
              "      <td>Rua Pedro Teixeira</td>\n",
              "      <td>Vila Olímpia</td>\n",
              "      <td>São Paulo</td>\n",
              "      <td>157</td>\n",
              "      <td>3</td>\n",
              "      <td>2</td>\n",
              "      <td>2</td>\n",
              "      <td>960000.00</td>\n",
              "      <td>0.96</td>\n",
              "      <td>6114.65</td>\n",
              "      <td>...</td>\n",
              "      <td>2.17</td>\n",
              "      <td>1.27</td>\n",
              "      <td>5054.58</td>\n",
              "      <td>33245189.73</td>\n",
              "      <td>5231.93</td>\n",
              "      <td>33485189.78</td>\n",
              "      <td>3649.06</td>\n",
              "      <td>26562232.53</td>\n",
              "      <td>4551.66</td>\n",
              "      <td>29032823.35</td>\n",
              "    </tr>\n",
              "    <tr>\n",
              "      <th>5600</th>\n",
              "      <td>Avenida Odila</td>\n",
              "      <td>Planalto Paulista</td>\n",
              "      <td>São Paulo</td>\n",
              "      <td>267</td>\n",
              "      <td>3</td>\n",
              "      <td>6</td>\n",
              "      <td>4</td>\n",
              "      <td>1500000.00</td>\n",
              "      <td>1.50</td>\n",
              "      <td>5617.98</td>\n",
              "      <td>...</td>\n",
              "      <td>2.81</td>\n",
              "      <td>1.60</td>\n",
              "      <td>4249.33</td>\n",
              "      <td>24499871.44</td>\n",
              "      <td>5180.14</td>\n",
              "      <td>25047413.33</td>\n",
              "      <td>2618.76</td>\n",
              "      <td>17705032.31</td>\n",
              "      <td>3977.93</td>\n",
              "      <td>21495997.85</td>\n",
              "    </tr>\n",
              "    <tr>\n",
              "      <th>5601</th>\n",
              "      <td>Rua Tapuçu</td>\n",
              "      <td>Vila Sofia</td>\n",
              "      <td>São Paulo</td>\n",
              "      <td>95</td>\n",
              "      <td>2</td>\n",
              "      <td>2</td>\n",
              "      <td>2</td>\n",
              "      <td>665000.00</td>\n",
              "      <td>0.67</td>\n",
              "      <td>7000.00</td>\n",
              "      <td>...</td>\n",
              "      <td>2.99</td>\n",
              "      <td>1.81</td>\n",
              "      <td>2425.09</td>\n",
              "      <td>6878872.25</td>\n",
              "      <td>2543.80</td>\n",
              "      <td>6913867.79</td>\n",
              "      <td>1561.58</td>\n",
              "      <td>4261814.01</td>\n",
              "      <td>2062.09</td>\n",
              "      <td>4596759.57</td>\n",
              "    </tr>\n",
              "    <tr>\n",
              "      <th>5603</th>\n",
              "      <td>Rua Estero Belaco</td>\n",
              "      <td>Vila da Saúde</td>\n",
              "      <td>São Paulo</td>\n",
              "      <td>205</td>\n",
              "      <td>3</td>\n",
              "      <td>3</td>\n",
              "      <td>6</td>\n",
              "      <td>1050000.00</td>\n",
              "      <td>1.05</td>\n",
              "      <td>5121.95</td>\n",
              "      <td>...</td>\n",
              "      <td>2.75</td>\n",
              "      <td>1.50</td>\n",
              "      <td>5650.20</td>\n",
              "      <td>20344622.14</td>\n",
              "      <td>5750.84</td>\n",
              "      <td>20127679.27</td>\n",
              "      <td>3459.68</td>\n",
              "      <td>16021825.60</td>\n",
              "      <td>4362.79</td>\n",
              "      <td>16264378.33</td>\n",
              "    </tr>\n",
              "    <tr>\n",
              "      <th>5604</th>\n",
              "      <td>Rua Barão de Tramandaí, 0</td>\n",
              "      <td>Vila Alpina</td>\n",
              "      <td>São Paulo</td>\n",
              "      <td>122</td>\n",
              "      <td>3</td>\n",
              "      <td>2</td>\n",
              "      <td>2</td>\n",
              "      <td>270000.00</td>\n",
              "      <td>0.27</td>\n",
              "      <td>2213.11</td>\n",
              "      <td>...</td>\n",
              "      <td>2.97</td>\n",
              "      <td>1.75</td>\n",
              "      <td>1244.10</td>\n",
              "      <td>1353001.23</td>\n",
              "      <td>1364.89</td>\n",
              "      <td>1319336.96</td>\n",
              "      <td>895.93</td>\n",
              "      <td>988708.13</td>\n",
              "      <td>1226.86</td>\n",
              "      <td>947807.31</td>\n",
              "    </tr>\n",
              "  </tbody>\n",
              "</table>\n",
              "<p>5308 rows × 25 columns</p>\n",
              "</div>\n",
              "      <button class=\"colab-df-convert\" onclick=\"convertToInteractive('df-7a60eadd-2441-4439-9af0-6f0b85074d2f')\"\n",
              "              title=\"Convert this dataframe to an interactive table.\"\n",
              "              style=\"display:none;\">\n",
              "        \n",
              "  <svg xmlns=\"http://www.w3.org/2000/svg\" height=\"24px\"viewBox=\"0 0 24 24\"\n",
              "       width=\"24px\">\n",
              "    <path d=\"M0 0h24v24H0V0z\" fill=\"none\"/>\n",
              "    <path d=\"M18.56 5.44l.94 2.06.94-2.06 2.06-.94-2.06-.94-.94-2.06-.94 2.06-2.06.94zm-11 1L8.5 8.5l.94-2.06 2.06-.94-2.06-.94L8.5 2.5l-.94 2.06-2.06.94zm10 10l.94 2.06.94-2.06 2.06-.94-2.06-.94-.94-2.06-.94 2.06-2.06.94z\"/><path d=\"M17.41 7.96l-1.37-1.37c-.4-.4-.92-.59-1.43-.59-.52 0-1.04.2-1.43.59L10.3 9.45l-7.72 7.72c-.78.78-.78 2.05 0 2.83L4 21.41c.39.39.9.59 1.41.59.51 0 1.02-.2 1.41-.59l7.78-7.78 2.81-2.81c.8-.78.8-2.07 0-2.86zM5.41 20L4 18.59l7.72-7.72 1.47 1.35L5.41 20z\"/>\n",
              "  </svg>\n",
              "      </button>\n",
              "      \n",
              "  <style>\n",
              "    .colab-df-container {\n",
              "      display:flex;\n",
              "      flex-wrap:wrap;\n",
              "      gap: 12px;\n",
              "    }\n",
              "\n",
              "    .colab-df-convert {\n",
              "      background-color: #E8F0FE;\n",
              "      border: none;\n",
              "      border-radius: 50%;\n",
              "      cursor: pointer;\n",
              "      display: none;\n",
              "      fill: #1967D2;\n",
              "      height: 32px;\n",
              "      padding: 0 0 0 0;\n",
              "      width: 32px;\n",
              "    }\n",
              "\n",
              "    .colab-df-convert:hover {\n",
              "      background-color: #E2EBFA;\n",
              "      box-shadow: 0px 1px 2px rgba(60, 64, 67, 0.3), 0px 1px 3px 1px rgba(60, 64, 67, 0.15);\n",
              "      fill: #174EA6;\n",
              "    }\n",
              "\n",
              "    [theme=dark] .colab-df-convert {\n",
              "      background-color: #3B4455;\n",
              "      fill: #D2E3FC;\n",
              "    }\n",
              "\n",
              "    [theme=dark] .colab-df-convert:hover {\n",
              "      background-color: #434B5C;\n",
              "      box-shadow: 0px 1px 3px 1px rgba(0, 0, 0, 0.15);\n",
              "      filter: drop-shadow(0px 1px 2px rgba(0, 0, 0, 0.3));\n",
              "      fill: #FFFFFF;\n",
              "    }\n",
              "  </style>\n",
              "\n",
              "      <script>\n",
              "        const buttonEl =\n",
              "          document.querySelector('#df-7a60eadd-2441-4439-9af0-6f0b85074d2f button.colab-df-convert');\n",
              "        buttonEl.style.display =\n",
              "          google.colab.kernel.accessAllowed ? 'block' : 'none';\n",
              "\n",
              "        async function convertToInteractive(key) {\n",
              "          const element = document.querySelector('#df-7a60eadd-2441-4439-9af0-6f0b85074d2f');\n",
              "          const dataTable =\n",
              "            await google.colab.kernel.invokeFunction('convertToInteractive',\n",
              "                                                     [key], {});\n",
              "          if (!dataTable) return;\n",
              "\n",
              "          const docLinkHtml = 'Like what you see? Visit the ' +\n",
              "            '<a target=\"_blank\" href=https://colab.research.google.com/notebooks/data_table.ipynb>data table notebook</a>'\n",
              "            + ' to learn more about interactive tables.';\n",
              "          element.innerHTML = '';\n",
              "          dataTable['output_type'] = 'display_data';\n",
              "          await google.colab.output.renderOutput(dataTable, element);\n",
              "          const docLink = document.createElement('div');\n",
              "          docLink.innerHTML = docLinkHtml;\n",
              "          element.appendChild(docLink);\n",
              "        }\n",
              "      </script>\n",
              "    </div>\n",
              "  </div>\n",
              "  "
            ]
          },
          "metadata": {},
          "execution_count": 71
        }
      ]
    },
    {
      "cell_type": "markdown",
      "source": [
        "<h2><strong>Relação das variáveis das planilhas</strong></h2>\n",
        "\n",
        "Arquivo Básico (planilha Básico_UF.xls ou Básico_UF.csv)\n",
        "\n",
        "<h3><strong>Situação setor:</strong></h3>\n",
        "\n",
        "\n",
        "*   Situação urbana – códigos: 1, 2 e 3\n",
        "\n",
        "1.   Área urbanizada de cidade ou vila\n",
        "2.   Área não-urbanizada de cidade ou vila\n",
        "3.   Área urbana isolada\n",
        "\n",
        "*   Situação rural – códigos: 4, 5, 6, 7 e 8\n",
        "\n",
        "4.   Aglomerado rural de extensão urbana\n",
        "5.   Aglomerado rural isolado – povoado\n",
        "6.   Aglomerado rural isolado – núcleo\n",
        "7.   Aglomerado rural isolado - outros aglomerados\n",
        "8.   Zona rural, exclusive aglomerado rural\n",
        "\n",
        "<h3><strong>Demais variáveis:</strong></h3>\n",
        "\n",
        "*   V001 - Domicílios particulares permanentes ou pessoas responsáveis por domicílios particulares permanentes\n",
        "*   V002 - Moradores em domicílios particulares permanentes ou população residente em domicílios particulares permanentes\n",
        "*   V003 - Média do número de moradores em domicílios particulares permanentes (obtida pela divisão de Var2 por Var1)\n",
        "*   V004 - Domicílios particulares permanentes ou pessoas responsáveis por domicílios particulares permanentes\n",
        "*   V005 - Valor do rendimento nominal médio mensal das pessoas responsáveis por domicílios particulares permanentes (com e sem rendimento)\n",
        "*   V006 - Variância do rendimento nominal mensal das pessoas responsáveis por domicílios particulares permanentes (com e sem rendimento)\n",
        "*   V007 - Valor do rendimento nominal médio mensal das pessoas responsáveis por domicílios particulares permanentes (com rendimento)\n",
        "*   V008 - Variância do rendimento nominal mensal das pessoas responsáveis por domicílios particulares permanentes (com rendimento)\n",
        "*   V009 - Valor do rendimento nominal médio mensal das pessoas de 10 anos ou mais de idade (com e sem rendimento)\n",
        "*   V010 - Variância do rendimento nominal mensal das pessoas de 10 anos ou mais de idade (com e sem rendimento)\n",
        "*   V011 - Valor do rendimento nominal médio mensal das pessoas de 10 anos ou mais de idade (com rendimento)\n",
        "*   V012 - Variância do rendimento nominal mensal das pessoas de 10 anos ou mais de idade (com rendimento)\n",
        "\n",
        "\n",
        "\n",
        "\n",
        "\n"
      ],
      "metadata": {
        "id": "MYtWiwskUN91"
      }
    },
    {
      "cell_type": "code",
      "source": [
        "# vamos passar rápido sobre o asunto \"O que estamos querendo prever?\"\n",
        "# vamos então criar um boxplot do nosso valor anúncio\n",
        "# conseguimos ver a que a distribuição é bem discrepante\n",
        "\n",
        "plt.figure(figsize=(10, 8))\n",
        "ax = sns.boxplot(data=dados_vendas_censo, y='Valor_anuncio')\n",
        "plt.show"
      ],
      "metadata": {
        "colab": {
          "base_uri": "https://localhost:8080/",
          "height": 0
        },
        "id": "1bRd2nrWw8aL",
        "outputId": "dab47d2d-5188-4608-aaed-a9788fa72fb8"
      },
      "execution_count": 72,
      "outputs": [
        {
          "output_type": "execute_result",
          "data": {
            "text/plain": [
              "<function matplotlib.pyplot.show>"
            ]
          },
          "metadata": {},
          "execution_count": 72
        },
        {
          "output_type": "display_data",
          "data": {
            "text/plain": [
              "<Figure size 720x576 with 1 Axes>"
            ],
            "image/png": "[encoded data removed]"
          },
          "metadata": {}
        }
      ]
    },
    {
      "cell_type": "code",
      "source": [
        "valores_drop = dados_vendas_censo.query('Valor_anuncio > 30000000 | Valor_anuncio < 100000')\n",
        "valores_drop"
      ],
      "metadata": {
        "colab": {
          "base_uri": "https://localhost:8080/",
          "height": 0
        },
        "id": "aXSixQU4xbLA",
        "outputId": "4b3c4d99-8736-434d-cbe6-c64f7f824f17"
      },
      "execution_count": 73,
      "outputs": [
        {
          "output_type": "execute_result",
          "data": {
            "text/plain": [
              "                       Rua          Bairro     Cidade  Metragem  Quartos  \\\n",
              "54          Rua Inglaterra   Jardim Europa  São Paulo       200        3   \n",
              "89          Rua Inglaterra   Jardim Europa  São Paulo       756        5   \n",
              "1032  Praça Nicolau Scarpa  Jardim América  São Paulo      1200        4   \n",
              "3521    Rua Estados Unidos  Jardim América  São Paulo      1816        4   \n",
              "3896    Rua Estados Unidos  Jardim América  São Paulo      1200        4   \n",
              "\n",
              "      Banheiros  Vagas  Valor_anuncio  Valor_mm  Valor_m2  ...  V003  V004  \\\n",
              "54            3      2       13000.00      0.01     65.00  ...  3.13  2.87   \n",
              "89            4     10    37000000.00     37.00  48941.80  ...  3.13  2.87   \n",
              "1032          4     25    65000000.00     65.00  54166.67  ...  3.57  3.01   \n",
              "3521         10     20    55000000.00     55.00  30286.34  ...  3.57  3.01   \n",
              "3896          6     24    65000000.00     65.00  54166.67  ...  3.57  3.01   \n",
              "\n",
              "         V005          V006     V007          V008     V009         V010  \\\n",
              "54   21545.71 1577883376.43 26081.65 1794039881.36 11050.67 882338714.47   \n",
              "89   21545.71 1577883376.43 26081.65 1794039881.36 11050.67 882338714.47   \n",
              "1032 13131.61  508165993.72 14507.30  541764826.89  7934.91 364776324.15   \n",
              "3521 13131.61  508165993.72 14507.30  541764826.89  7934.91 364776324.15   \n",
              "3896 13131.61  508165993.72 14507.30  541764826.89  7934.91 364776324.15   \n",
              "\n",
              "         V011          V012  \n",
              "54   15470.93 1168079134.43  \n",
              "89   15470.93 1168079134.43  \n",
              "1032 10168.24  445001716.57  \n",
              "3521 10168.24  445001716.57  \n",
              "3896 10168.24  445001716.57  \n",
              "\n",
              "[5 rows x 25 columns]"
            ],
            "text/html": [
              "\n",
              "  <div id=\"df-c5fa9530-74de-4b72-9b12-18def74e6101\">\n",
              "    <div class=\"colab-df-container\">\n",
              "      <div>\n",
              "<style scoped>\n",
              "    .dataframe tbody tr th:only-of-type {\n",
              "        vertical-align: middle;\n",
              "    }\n",
              "\n",
              "    .dataframe tbody tr th {\n",
              "        vertical-align: top;\n",
              "    }\n",
              "\n",
              "    .dataframe thead th {\n",
              "        text-align: right;\n",
              "    }\n",
              "</style>\n",
              "<table border=\"1\" class=\"dataframe\">\n",
              "  <thead>\n",
              "    <tr style=\"text-align: right;\">\n",
              "      <th></th>\n",
              "      <th>Rua</th>\n",
              "      <th>Bairro</th>\n",
              "      <th>Cidade</th>\n",
              "      <th>Metragem</th>\n",
              "      <th>Quartos</th>\n",
              "      <th>Banheiros</th>\n",
              "      <th>Vagas</th>\n",
              "      <th>Valor_anuncio</th>\n",
              "      <th>Valor_mm</th>\n",
              "      <th>Valor_m2</th>\n",
              "      <th>...</th>\n",
              "      <th>V003</th>\n",
              "      <th>V004</th>\n",
              "      <th>V005</th>\n",
              "      <th>V006</th>\n",
              "      <th>V007</th>\n",
              "      <th>V008</th>\n",
              "      <th>V009</th>\n",
              "      <th>V010</th>\n",
              "      <th>V011</th>\n",
              "      <th>V012</th>\n",
              "    </tr>\n",
              "  </thead>\n",
              "  <tbody>\n",
              "    <tr>\n",
              "      <th>54</th>\n",
              "      <td>Rua Inglaterra</td>\n",
              "      <td>Jardim Europa</td>\n",
              "      <td>São Paulo</td>\n",
              "      <td>200</td>\n",
              "      <td>3</td>\n",
              "      <td>3</td>\n",
              "      <td>2</td>\n",
              "      <td>13000.00</td>\n",
              "      <td>0.01</td>\n",
              "      <td>65.00</td>\n",
              "      <td>...</td>\n",
              "      <td>3.13</td>\n",
              "      <td>2.87</td>\n",
              "      <td>21545.71</td>\n",
              "      <td>1577883376.43</td>\n",
              "      <td>26081.65</td>\n",
              "      <td>1794039881.36</td>\n",
              "      <td>11050.67</td>\n",
              "      <td>882338714.47</td>\n",
              "      <td>15470.93</td>\n",
              "      <td>1168079134.43</td>\n",
              "    </tr>\n",
              "    <tr>\n",
              "      <th>89</th>\n",
              "      <td>Rua Inglaterra</td>\n",
              "      <td>Jardim Europa</td>\n",
              "      <td>São Paulo</td>\n",
              "      <td>756</td>\n",
              "      <td>5</td>\n",
              "      <td>4</td>\n",
              "      <td>10</td>\n",
              "      <td>37000000.00</td>\n",
              "      <td>37.00</td>\n",
              "      <td>48941.80</td>\n",
              "      <td>...</td>\n",
              "      <td>3.13</td>\n",
              "      <td>2.87</td>\n",
              "      <td>21545.71</td>\n",
              "      <td>1577883376.43</td>\n",
              "      <td>26081.65</td>\n",
              "      <td>1794039881.36</td>\n",
              "      <td>11050.67</td>\n",
              "      <td>882338714.47</td>\n",
              "      <td>15470.93</td>\n",
              "      <td>1168079134.43</td>\n",
              "    </tr>\n",
              "    <tr>\n",
              "      <th>1032</th>\n",
              "      <td>Praça Nicolau Scarpa</td>\n",
              "      <td>Jardim América</td>\n",
              "      <td>São Paulo</td>\n",
              "      <td>1200</td>\n",
              "      <td>4</td>\n",
              "      <td>4</td>\n",
              "      <td>25</td>\n",
              "      <td>65000000.00</td>\n",
              "      <td>65.00</td>\n",
              "      <td>54166.67</td>\n",
              "      <td>...</td>\n",
              "      <td>3.57</td>\n",
              "      <td>3.01</td>\n",
              "      <td>13131.61</td>\n",
              "      <td>508165993.72</td>\n",
              "      <td>14507.30</td>\n",
              "      <td>541764826.89</td>\n",
              "      <td>7934.91</td>\n",
              "      <td>364776324.15</td>\n",
              "      <td>10168.24</td>\n",
              "      <td>445001716.57</td>\n",
              "    </tr>\n",
              "    <tr>\n",
              "      <th>3521</th>\n",
              "      <td>Rua Estados Unidos</td>\n",
              "      <td>Jardim América</td>\n",
              "      <td>São Paulo</td>\n",
              "      <td>1816</td>\n",
              "      <td>4</td>\n",
              "      <td>10</td>\n",
              "      <td>20</td>\n",
              "      <td>55000000.00</td>\n",
              "      <td>55.00</td>\n",
              "      <td>30286.34</td>\n",
              "      <td>...</td>\n",
              "      <td>3.57</td>\n",
              "      <td>3.01</td>\n",
              "      <td>13131.61</td>\n",
              "      <td>508165993.72</td>\n",
              "      <td>14507.30</td>\n",
              "      <td>541764826.89</td>\n",
              "      <td>7934.91</td>\n",
              "      <td>364776324.15</td>\n",
              "      <td>10168.24</td>\n",
              "      <td>445001716.57</td>\n",
              "    </tr>\n",
              "    <tr>\n",
              "      <th>3896</th>\n",
              "      <td>Rua Estados Unidos</td>\n",
              "      <td>Jardim América</td>\n",
              "      <td>São Paulo</td>\n",
              "      <td>1200</td>\n",
              "      <td>4</td>\n",
              "      <td>6</td>\n",
              "      <td>24</td>\n",
              "      <td>65000000.00</td>\n",
              "      <td>65.00</td>\n",
              "      <td>54166.67</td>\n",
              "      <td>...</td>\n",
              "      <td>3.57</td>\n",
              "      <td>3.01</td>\n",
              "      <td>13131.61</td>\n",
              "      <td>508165993.72</td>\n",
              "      <td>14507.30</td>\n",
              "      <td>541764826.89</td>\n",
              "      <td>7934.91</td>\n",
              "      <td>364776324.15</td>\n",
              "      <td>10168.24</td>\n",
              "      <td>445001716.57</td>\n",
              "    </tr>\n",
              "  </tbody>\n",
              "</table>\n",
              "<p>5 rows × 25 columns</p>\n",
              "</div>\n",
              "      <button class=\"colab-df-convert\" onclick=\"convertToInteractive('df-c5fa9530-74de-4b72-9b12-18def74e6101')\"\n",
              "              title=\"Convert this dataframe to an interactive table.\"\n",
              "              style=\"display:none;\">\n",
              "        \n",
              "  <svg xmlns=\"http://www.w3.org/2000/svg\" height=\"24px\"viewBox=\"0 0 24 24\"\n",
              "       width=\"24px\">\n",
              "    <path d=\"M0 0h24v24H0V0z\" fill=\"none\"/>\n",
              "    <path d=\"M18.56 5.44l.94 2.06.94-2.06 2.06-.94-2.06-.94-.94-2.06-.94 2.06-2.06.94zm-11 1L8.5 8.5l.94-2.06 2.06-.94-2.06-.94L8.5 2.5l-.94 2.06-2.06.94zm10 10l.94 2.06.94-2.06 2.06-.94-2.06-.94-.94-2.06-.94 2.06-2.06.94z\"/><path d=\"M17.41 7.96l-1.37-1.37c-.4-.4-.92-.59-1.43-.59-.52 0-1.04.2-1.43.59L10.3 9.45l-7.72 7.72c-.78.78-.78 2.05 0 2.83L4 21.41c.39.39.9.59 1.41.59.51 0 1.02-.2 1.41-.59l7.78-7.78 2.81-2.81c.8-.78.8-2.07 0-2.86zM5.41 20L4 18.59l7.72-7.72 1.47 1.35L5.41 20z\"/>\n",
              "  </svg>\n",
              "      </button>\n",
              "      \n",
              "  <style>\n",
              "    .colab-df-container {\n",
              "      display:flex;\n",
              "      flex-wrap:wrap;\n",
              "      gap: 12px;\n",
              "    }\n",
              "\n",
              "    .colab-df-convert {\n",
              "      background-color: #E8F0FE;\n",
              "      border: none;\n",
              "      border-radius: 50%;\n",
              "      cursor: pointer;\n",
              "      display: none;\n",
              "      fill: #1967D2;\n",
              "      height: 32px;\n",
              "      padding: 0 0 0 0;\n",
              "      width: 32px;\n",
              "    }\n",
              "\n",
              "    .colab-df-convert:hover {\n",
              "      background-color: #E2EBFA;\n",
              "      box-shadow: 0px 1px 2px rgba(60, 64, 67, 0.3), 0px 1px 3px 1px rgba(60, 64, 67, 0.15);\n",
              "      fill: #174EA6;\n",
              "    }\n",
              "\n",
              "    [theme=dark] .colab-df-convert {\n",
              "      background-color: #3B4455;\n",
              "      fill: #D2E3FC;\n",
              "    }\n",
              "\n",
              "    [theme=dark] .colab-df-convert:hover {\n",
              "      background-color: #434B5C;\n",
              "      box-shadow: 0px 1px 3px 1px rgba(0, 0, 0, 0.15);\n",
              "      filter: drop-shadow(0px 1px 2px rgba(0, 0, 0, 0.3));\n",
              "      fill: #FFFFFF;\n",
              "    }\n",
              "  </style>\n",
              "\n",
              "      <script>\n",
              "        const buttonEl =\n",
              "          document.querySelector('#df-c5fa9530-74de-4b72-9b12-18def74e6101 button.colab-df-convert');\n",
              "        buttonEl.style.display =\n",
              "          google.colab.kernel.accessAllowed ? 'block' : 'none';\n",
              "\n",
              "        async function convertToInteractive(key) {\n",
              "          const element = document.querySelector('#df-c5fa9530-74de-4b72-9b12-18def74e6101');\n",
              "          const dataTable =\n",
              "            await google.colab.kernel.invokeFunction('convertToInteractive',\n",
              "                                                     [key], {});\n",
              "          if (!dataTable) return;\n",
              "\n",
              "          const docLinkHtml = 'Like what you see? Visit the ' +\n",
              "            '<a target=\"_blank\" href=https://colab.research.google.com/notebooks/data_table.ipynb>data table notebook</a>'\n",
              "            + ' to learn more about interactive tables.';\n",
              "          element.innerHTML = '';\n",
              "          dataTable['output_type'] = 'display_data';\n",
              "          await google.colab.output.renderOutput(dataTable, element);\n",
              "          const docLink = document.createElement('div');\n",
              "          docLink.innerHTML = docLinkHtml;\n",
              "          element.appendChild(docLink);\n",
              "        }\n",
              "      </script>\n",
              "    </div>\n",
              "  </div>\n",
              "  "
            ]
          },
          "metadata": {},
          "execution_count": 73
        }
      ]
    },
    {
      "cell_type": "code",
      "source": [
        "dados_vendas_censo['latitude']"
      ],
      "metadata": {
        "colab": {
          "base_uri": "https://localhost:8080/"
        },
        "id": "46fzZKC_TPO1",
        "outputId": "a4886d31-989b-4ec8-aabf-b16076e2573b"
      },
      "execution_count": 74,
      "outputs": [
        {
          "output_type": "execute_result",
          "data": {
            "text/plain": [
              "0      -23.62\n",
              "1      -23.64\n",
              "2      -23.75\n",
              "3      -23.55\n",
              "4      -23.59\n",
              "        ...  \n",
              "5599   -23.60\n",
              "5600   -23.61\n",
              "5601   -23.66\n",
              "5603   -23.62\n",
              "5604   -23.60\n",
              "Name: latitude, Length: 5308, dtype: float64"
            ]
          },
          "metadata": {},
          "execution_count": 74
        }
      ]
    },
    {
      "cell_type": "code",
      "source": [
        "# vamos excluir esses valores discrepantes\n",
        "\n",
        "dados_vendas_censo.drop(valores_drop.index, inplace=True)\n",
        "plt.figure(figsize=(10, 8))\n",
        "ax = sns.boxplot(data=dados_vendas_censo, y='Valor_anuncio')\n",
        "plt.show()"
      ],
      "metadata": {
        "colab": {
          "base_uri": "https://localhost:8080/",
          "height": 0
        },
        "id": "zwL7Mv2aybC5",
        "outputId": "9212959f-5cd2-4497-d86d-b9d7ed1bb5da"
      },
      "execution_count": 75,
      "outputs": [
        {
          "output_type": "display_data",
          "data": {
            "text/plain": [
              "<Figure size 720x576 with 1 Axes>"
            ],
            "image/png": "[encoded data removed]"
          },
          "metadata": {}
        }
      ]
    },
    {
      "cell_type": "code",
      "source": [
        "# temos aqui um cone da distribuição do valor anuncio com o valor do m2\n",
        "# precisamos agora calcular a correlação entre nossas variáveis\n",
        "\n",
        "plt.figure(figsize=(10, 10))\n",
        "sns.scatterplot(data=dados_vendas_censo, x=\"Valor_anuncio\", y=\"Valor_m2\")"
      ],
      "metadata": {
        "colab": {
          "base_uri": "https://localhost:8080/",
          "height": 0
        },
        "id": "8NgVVTQ00I9V",
        "outputId": "77febbc5-4e08-45a0-cadf-c2e6618dab80"
      },
      "execution_count": 76,
      "outputs": [
        {
          "output_type": "execute_result",
          "data": {
            "text/plain": [
              "<matplotlib.axes._subplots.AxesSubplot at 0x7f2606fb1190>"
            ]
          },
          "metadata": {},
          "execution_count": 76
        },
        {
          "output_type": "display_data",
          "data": {
            "text/plain": [
              "<Figure size 720x720 with 1 Axes>"
            ],
            "image/png": "[encoded data removed]"
          },
          "metadata": {}
        }
      ]
    },
    {
      "cell_type": "markdown",
      "source": [
        "## **Começando a aula 05**"
      ],
      "metadata": {
        "id": "9TGun5-shlMK"
      }
    },
    {
      "cell_type": "code",
      "source": [
        "# vamos mostrar como calular esse valores \"na mão\"\n",
        "\n",
        "dados_vendas_censo.corr()"
      ],
      "metadata": {
        "colab": {
          "base_uri": "https://localhost:8080/",
          "height": 768
        },
        "id": "4_okvOE60cbu",
        "outputId": "fc0d2efe-70ed-4c20-eeea-429fb23d52e8"
      },
      "execution_count": 77,
      "outputs": [
        {
          "output_type": "execute_result",
          "data": {
            "text/plain": [
              "                Metragem  Quartos  Banheiros  Vagas  Valor_anuncio  Valor_mm  \\\n",
              "Metragem            1.00     0.23       0.23   0.27           0.30      0.30   \n",
              "Quartos             0.23     1.00       0.55   0.42           0.37      0.37   \n",
              "Banheiros           0.23     0.55       1.00   0.46           0.47      0.47   \n",
              "Vagas               0.27     0.42       0.46   1.00           0.48      0.48   \n",
              "Valor_anuncio       0.30     0.37       0.47   0.48           1.00      1.00   \n",
              "Valor_mm            0.30     0.37       0.47   0.48           1.00      1.00   \n",
              "Valor_m2            0.06     0.12       0.22   0.15           0.70      0.70   \n",
              "latitude           -0.09    -0.01      -0.03  -0.04           0.02      0.02   \n",
              "longitude          -0.13    -0.19      -0.25  -0.19          -0.21     -0.21   \n",
              "Situacao_setor      0.48    -0.01      -0.03  -0.01          -0.00     -0.00   \n",
              "V001               -0.13    -0.18      -0.22  -0.21          -0.22     -0.22   \n",
              "V002               -0.10    -0.15      -0.17  -0.15          -0.19     -0.19   \n",
              "V003                0.13     0.16       0.21   0.24           0.13      0.13   \n",
              "V004                0.05     0.07       0.07   0.09           0.08      0.08   \n",
              "V005                0.22     0.32       0.41   0.34           0.45      0.45   \n",
              "V006                0.07     0.12       0.11   0.11           0.11      0.11   \n",
              "V007                0.23     0.33       0.41   0.34           0.45      0.45   \n",
              "V008                0.05     0.11       0.08   0.08           0.07      0.07   \n",
              "V009                0.20     0.31       0.39   0.32           0.47      0.47   \n",
              "V010                0.07     0.13       0.11   0.12           0.13      0.13   \n",
              "V011                0.21     0.32       0.40   0.33           0.45      0.45   \n",
              "V012                0.05     0.11       0.08   0.09           0.08      0.08   \n",
              "\n",
              "                Valor_m2  latitude  longitude  Situacao_setor  ...  V003  \\\n",
              "Metragem            0.06     -0.09      -0.13            0.48  ...  0.13   \n",
              "Quartos             0.12     -0.01      -0.19           -0.01  ...  0.16   \n",
              "Banheiros           0.22     -0.03      -0.25           -0.03  ...  0.21   \n",
              "Vagas               0.15     -0.04      -0.19           -0.01  ...  0.24   \n",
              "Valor_anuncio       0.70      0.02      -0.21           -0.00  ...  0.13   \n",
              "Valor_mm            0.70      0.02      -0.21           -0.00  ...  0.13   \n",
              "Valor_m2            1.00      0.05      -0.18           -0.03  ... -0.13   \n",
              "latitude            0.05      1.00       0.15           -0.03  ... -0.05   \n",
              "longitude          -0.18      0.15       1.00           -0.01  ... -0.05   \n",
              "Situacao_setor     -0.03     -0.03      -0.01            1.00  ...  0.03   \n",
              "V001               -0.11     -0.00       0.31            0.02  ... -0.22   \n",
              "V002               -0.15     -0.02       0.30            0.03  ...  0.07   \n",
              "V003               -0.13     -0.05      -0.05            0.03  ...  1.00   \n",
              "V004                0.01      0.03       0.02            0.00  ...  0.41   \n",
              "V005                0.29     -0.05      -0.36           -0.03  ...  0.28   \n",
              "V006                0.04     -0.09      -0.10           -0.01  ...  0.08   \n",
              "V007                0.28     -0.07      -0.36           -0.03  ...  0.28   \n",
              "V008                0.02     -0.07      -0.07           -0.01  ...  0.06   \n",
              "V009                0.37     -0.04      -0.38           -0.04  ...  0.13   \n",
              "V010                0.05     -0.07      -0.10           -0.01  ...  0.10   \n",
              "V011                0.32     -0.07      -0.37           -0.03  ...  0.19   \n",
              "V012                0.02     -0.06      -0.07           -0.00  ...  0.07   \n",
              "\n",
              "                V004  V005  V006  V007  V008  V009  V010  V011  V012  \n",
              "Metragem        0.05  0.22  0.07  0.23  0.05  0.20  0.07  0.21  0.05  \n",
              "Quartos         0.07  0.32  0.12  0.33  0.11  0.31  0.13  0.32  0.11  \n",
              "Banheiros       0.07  0.41  0.11  0.41  0.08  0.39  0.11  0.40  0.08  \n",
              "Vagas           0.09  0.34  0.11  0.34  0.08  0.32  0.12  0.33  0.09  \n",
              "Valor_anuncio   0.08  0.45  0.11  0.45  0.07  0.47  0.13  0.45  0.08  \n",
              "Valor_mm        0.08  0.45  0.11  0.45  0.07  0.47  0.13  0.45  0.08  \n",
              "Valor_m2        0.01  0.29  0.04  0.28  0.02  0.37  0.05  0.32  0.02  \n",
              "latitude        0.03 -0.05 -0.09 -0.07 -0.07 -0.04 -0.07 -0.07 -0.06  \n",
              "longitude       0.02 -0.36 -0.10 -0.36 -0.07 -0.38 -0.10 -0.37 -0.07  \n",
              "Situacao_setor  0.00 -0.03 -0.01 -0.03 -0.01 -0.04 -0.01 -0.03 -0.00  \n",
              "V001           -0.12 -0.38 -0.10 -0.39 -0.10 -0.36 -0.13 -0.37 -0.11  \n",
              "V002            0.00 -0.33 -0.09 -0.34 -0.09 -0.35 -0.12 -0.35 -0.10  \n",
              "V003            0.41  0.28  0.08  0.28  0.06  0.13  0.10  0.19  0.07  \n",
              "V004            1.00  0.07  0.02  0.06  0.01 -0.01  0.02  0.01  0.01  \n",
              "V005            0.07  1.00  0.42  0.95  0.31  0.95  0.39  0.90  0.27  \n",
              "V006            0.02  0.42  1.00  0.56  0.93  0.42  0.89  0.58  0.83  \n",
              "V007            0.06  0.95  0.56  1.00  0.50  0.92  0.56  0.96  0.48  \n",
              "V008            0.01  0.31  0.93  0.50  1.00  0.33  0.91  0.56  0.95  \n",
              "V009           -0.01  0.95  0.42  0.92  0.33  1.00  0.45  0.94  0.34  \n",
              "V010            0.02  0.39  0.89  0.56  0.91  0.45  1.00  0.64  0.95  \n",
              "V011            0.01  0.90  0.58  0.96  0.56  0.94  0.64  1.00  0.57  \n",
              "V012            0.01  0.27  0.83  0.48  0.95  0.34  0.95  0.57  1.00  \n",
              "\n",
              "[22 rows x 22 columns]"
            ],
            "text/html": [
              "\n",
              "  <div id=\"df-4ab554f3-9e9a-41eb-85e9-10fe0dff3edd\">\n",
              "    <div class=\"colab-df-container\">\n",
              "      <div>\n",
              "<style scoped>\n",
              "    .dataframe tbody tr th:only-of-type {\n",
              "        vertical-align: middle;\n",
              "    }\n",
              "\n",
              "    .dataframe tbody tr th {\n",
              "        vertical-align: top;\n",
              "    }\n",
              "\n",
              "    .dataframe thead th {\n",
              "        text-align: right;\n",
              "    }\n",
              "</style>\n",
              "<table border=\"1\" class=\"dataframe\">\n",
              "  <thead>\n",
              "    <tr style=\"text-align: right;\">\n",
              "      <th></th>\n",
              "      <th>Metragem</th>\n",
              "      <th>Quartos</th>\n",
              "      <th>Banheiros</th>\n",
              "      <th>Vagas</th>\n",
              "      <th>Valor_anuncio</th>\n",
              "      <th>Valor_mm</th>\n",
              "      <th>Valor_m2</th>\n",
              "      <th>latitude</th>\n",
              "      <th>longitude</th>\n",
              "      <th>Situacao_setor</th>\n",
              "      <th>...</th>\n",
              "      <th>V003</th>\n",
              "      <th>V004</th>\n",
              "      <th>V005</th>\n",
              "      <th>V006</th>\n",
              "      <th>V007</th>\n",
              "      <th>V008</th>\n",
              "      <th>V009</th>\n",
              "      <th>V010</th>\n",
              "      <th>V011</th>\n",
              "      <th>V012</th>\n",
              "    </tr>\n",
              "  </thead>\n",
              "  <tbody>\n",
              "    <tr>\n",
              "      <th>Metragem</th>\n",
              "      <td>1.00</td>\n",
              "      <td>0.23</td>\n",
              "      <td>0.23</td>\n",
              "      <td>0.27</td>\n",
              "      <td>0.30</td>\n",
              "      <td>0.30</td>\n",
              "      <td>0.06</td>\n",
              "      <td>-0.09</td>\n",
              "      <td>-0.13</td>\n",
              "      <td>0.48</td>\n",
              "      <td>...</td>\n",
              "      <td>0.13</td>\n",
              "      <td>0.05</td>\n",
              "      <td>0.22</td>\n",
              "      <td>0.07</td>\n",
              "      <td>0.23</td>\n",
              "      <td>0.05</td>\n",
              "      <td>0.20</td>\n",
              "      <td>0.07</td>\n",
              "      <td>0.21</td>\n",
              "      <td>0.05</td>\n",
              "    </tr>\n",
              "    <tr>\n",
              "      <th>Quartos</th>\n",
              "      <td>0.23</td>\n",
              "      <td>1.00</td>\n",
              "      <td>0.55</td>\n",
              "      <td>0.42</td>\n",
              "      <td>0.37</td>\n",
              "      <td>0.37</td>\n",
              "      <td>0.12</td>\n",
              "      <td>-0.01</td>\n",
              "      <td>-0.19</td>\n",
              "      <td>-0.01</td>\n",
              "      <td>...</td>\n",
              "      <td>0.16</td>\n",
              "      <td>0.07</td>\n",
              "      <td>0.32</td>\n",
              "      <td>0.12</td>\n",
              "      <td>0.33</td>\n",
              "      <td>0.11</td>\n",
              "      <td>0.31</td>\n",
              "      <td>0.13</td>\n",
              "      <td>0.32</td>\n",
              "      <td>0.11</td>\n",
              "    </tr>\n",
              "    <tr>\n",
              "      <th>Banheiros</th>\n",
              "      <td>0.23</td>\n",
              "      <td>0.55</td>\n",
              "      <td>1.00</td>\n",
              "      <td>0.46</td>\n",
              "      <td>0.47</td>\n",
              "      <td>0.47</td>\n",
              "      <td>0.22</td>\n",
              "      <td>-0.03</td>\n",
              "      <td>-0.25</td>\n",
              "      <td>-0.03</td>\n",
              "      <td>...</td>\n",
              "      <td>0.21</td>\n",
              "      <td>0.07</td>\n",
              "      <td>0.41</td>\n",
              "      <td>0.11</td>\n",
              "      <td>0.41</td>\n",
              "      <td>0.08</td>\n",
              "      <td>0.39</td>\n",
              "      <td>0.11</td>\n",
              "      <td>0.40</td>\n",
              "      <td>0.08</td>\n",
              "    </tr>\n",
              "    <tr>\n",
              "      <th>Vagas</th>\n",
              "      <td>0.27</td>\n",
              "      <td>0.42</td>\n",
              "      <td>0.46</td>\n",
              "      <td>1.00</td>\n",
              "      <td>0.48</td>\n",
              "      <td>0.48</td>\n",
              "      <td>0.15</td>\n",
              "      <td>-0.04</td>\n",
              "      <td>-0.19</td>\n",
              "      <td>-0.01</td>\n",
              "      <td>...</td>\n",
              "      <td>0.24</td>\n",
              "      <td>0.09</td>\n",
              "      <td>0.34</td>\n",
              "      <td>0.11</td>\n",
              "      <td>0.34</td>\n",
              "      <td>0.08</td>\n",
              "      <td>0.32</td>\n",
              "      <td>0.12</td>\n",
              "      <td>0.33</td>\n",
              "      <td>0.09</td>\n",
              "    </tr>\n",
              "    <tr>\n",
              "      <th>Valor_anuncio</th>\n",
              "      <td>0.30</td>\n",
              "      <td>0.37</td>\n",
              "      <td>0.47</td>\n",
              "      <td>0.48</td>\n",
              "      <td>1.00</td>\n",
              "      <td>1.00</td>\n",
              "      <td>0.70</td>\n",
              "      <td>0.02</td>\n",
              "      <td>-0.21</td>\n",
              "      <td>-0.00</td>\n",
              "      <td>...</td>\n",
              "      <td>0.13</td>\n",
              "      <td>0.08</td>\n",
              "      <td>0.45</td>\n",
              "      <td>0.11</td>\n",
              "      <td>0.45</td>\n",
              "      <td>0.07</td>\n",
              "      <td>0.47</td>\n",
              "      <td>0.13</td>\n",
              "      <td>0.45</td>\n",
              "      <td>0.08</td>\n",
              "    </tr>\n",
              "    <tr>\n",
              "      <th>Valor_mm</th>\n",
              "      <td>0.30</td>\n",
              "      <td>0.37</td>\n",
              "      <td>0.47</td>\n",
              "      <td>0.48</td>\n",
              "      <td>1.00</td>\n",
              "      <td>1.00</td>\n",
              "      <td>0.70</td>\n",
              "      <td>0.02</td>\n",
              "      <td>-0.21</td>\n",
              "      <td>-0.00</td>\n",
              "      <td>...</td>\n",
              "      <td>0.13</td>\n",
              "      <td>0.08</td>\n",
              "      <td>0.45</td>\n",
              "      <td>0.11</td>\n",
              "      <td>0.45</td>\n",
              "      <td>0.07</td>\n",
              "      <td>0.47</td>\n",
              "      <td>0.13</td>\n",
              "      <td>0.45</td>\n",
              "      <td>0.08</td>\n",
              "    </tr>\n",
              "    <tr>\n",
              "      <th>Valor_m2</th>\n",
              "      <td>0.06</td>\n",
              "      <td>0.12</td>\n",
              "      <td>0.22</td>\n",
              "      <td>0.15</td>\n",
              "      <td>0.70</td>\n",
              "      <td>0.70</td>\n",
              "      <td>1.00</td>\n",
              "      <td>0.05</td>\n",
              "      <td>-0.18</td>\n",
              "      <td>-0.03</td>\n",
              "      <td>...</td>\n",
              "      <td>-0.13</td>\n",
              "      <td>0.01</td>\n",
              "      <td>0.29</td>\n",
              "      <td>0.04</td>\n",
              "      <td>0.28</td>\n",
              "      <td>0.02</td>\n",
              "      <td>0.37</td>\n",
              "      <td>0.05</td>\n",
              "      <td>0.32</td>\n",
              "      <td>0.02</td>\n",
              "    </tr>\n",
              "    <tr>\n",
              "      <th>latitude</th>\n",
              "      <td>-0.09</td>\n",
              "      <td>-0.01</td>\n",
              "      <td>-0.03</td>\n",
              "      <td>-0.04</td>\n",
              "      <td>0.02</td>\n",
              "      <td>0.02</td>\n",
              "      <td>0.05</td>\n",
              "      <td>1.00</td>\n",
              "      <td>0.15</td>\n",
              "      <td>-0.03</td>\n",
              "      <td>...</td>\n",
              "      <td>-0.05</td>\n",
              "      <td>0.03</td>\n",
              "      <td>-0.05</td>\n",
              "      <td>-0.09</td>\n",
              "      <td>-0.07</td>\n",
              "      <td>-0.07</td>\n",
              "      <td>-0.04</td>\n",
              "      <td>-0.07</td>\n",
              "      <td>-0.07</td>\n",
              "      <td>-0.06</td>\n",
              "    </tr>\n",
              "    <tr>\n",
              "      <th>longitude</th>\n",
              "      <td>-0.13</td>\n",
              "      <td>-0.19</td>\n",
              "      <td>-0.25</td>\n",
              "      <td>-0.19</td>\n",
              "      <td>-0.21</td>\n",
              "      <td>-0.21</td>\n",
              "      <td>-0.18</td>\n",
              "      <td>0.15</td>\n",
              "      <td>1.00</td>\n",
              "      <td>-0.01</td>\n",
              "      <td>...</td>\n",
              "      <td>-0.05</td>\n",
              "      <td>0.02</td>\n",
              "      <td>-0.36</td>\n",
              "      <td>-0.10</td>\n",
              "      <td>-0.36</td>\n",
              "      <td>-0.07</td>\n",
              "      <td>-0.38</td>\n",
              "      <td>-0.10</td>\n",
              "      <td>-0.37</td>\n",
              "      <td>-0.07</td>\n",
              "    </tr>\n",
              "    <tr>\n",
              "      <th>Situacao_setor</th>\n",
              "      <td>0.48</td>\n",
              "      <td>-0.01</td>\n",
              "      <td>-0.03</td>\n",
              "      <td>-0.01</td>\n",
              "      <td>-0.00</td>\n",
              "      <td>-0.00</td>\n",
              "      <td>-0.03</td>\n",
              "      <td>-0.03</td>\n",
              "      <td>-0.01</td>\n",
              "      <td>1.00</td>\n",
              "      <td>...</td>\n",
              "      <td>0.03</td>\n",
              "      <td>0.00</td>\n",
              "      <td>-0.03</td>\n",
              "      <td>-0.01</td>\n",
              "      <td>-0.03</td>\n",
              "      <td>-0.01</td>\n",
              "      <td>-0.04</td>\n",
              "      <td>-0.01</td>\n",
              "      <td>-0.03</td>\n",
              "      <td>-0.00</td>\n",
              "    </tr>\n",
              "    <tr>\n",
              "      <th>V001</th>\n",
              "      <td>-0.13</td>\n",
              "      <td>-0.18</td>\n",
              "      <td>-0.22</td>\n",
              "      <td>-0.21</td>\n",
              "      <td>-0.22</td>\n",
              "      <td>-0.22</td>\n",
              "      <td>-0.11</td>\n",
              "      <td>-0.00</td>\n",
              "      <td>0.31</td>\n",
              "      <td>0.02</td>\n",
              "      <td>...</td>\n",
              "      <td>-0.22</td>\n",
              "      <td>-0.12</td>\n",
              "      <td>-0.38</td>\n",
              "      <td>-0.10</td>\n",
              "      <td>-0.39</td>\n",
              "      <td>-0.10</td>\n",
              "      <td>-0.36</td>\n",
              "      <td>-0.13</td>\n",
              "      <td>-0.37</td>\n",
              "      <td>-0.11</td>\n",
              "    </tr>\n",
              "    <tr>\n",
              "      <th>V002</th>\n",
              "      <td>-0.10</td>\n",
              "      <td>-0.15</td>\n",
              "      <td>-0.17</td>\n",
              "      <td>-0.15</td>\n",
              "      <td>-0.19</td>\n",
              "      <td>-0.19</td>\n",
              "      <td>-0.15</td>\n",
              "      <td>-0.02</td>\n",
              "      <td>0.30</td>\n",
              "      <td>0.03</td>\n",
              "      <td>...</td>\n",
              "      <td>0.07</td>\n",
              "      <td>0.00</td>\n",
              "      <td>-0.33</td>\n",
              "      <td>-0.09</td>\n",
              "      <td>-0.34</td>\n",
              "      <td>-0.09</td>\n",
              "      <td>-0.35</td>\n",
              "      <td>-0.12</td>\n",
              "      <td>-0.35</td>\n",
              "      <td>-0.10</td>\n",
              "    </tr>\n",
              "    <tr>\n",
              "      <th>V003</th>\n",
              "      <td>0.13</td>\n",
              "      <td>0.16</td>\n",
              "      <td>0.21</td>\n",
              "      <td>0.24</td>\n",
              "      <td>0.13</td>\n",
              "      <td>0.13</td>\n",
              "      <td>-0.13</td>\n",
              "      <td>-0.05</td>\n",
              "      <td>-0.05</td>\n",
              "      <td>0.03</td>\n",
              "      <td>...</td>\n",
              "      <td>1.00</td>\n",
              "      <td>0.41</td>\n",
              "      <td>0.28</td>\n",
              "      <td>0.08</td>\n",
              "      <td>0.28</td>\n",
              "      <td>0.06</td>\n",
              "      <td>0.13</td>\n",
              "      <td>0.10</td>\n",
              "      <td>0.19</td>\n",
              "      <td>0.07</td>\n",
              "    </tr>\n",
              "    <tr>\n",
              "      <th>V004</th>\n",
              "      <td>0.05</td>\n",
              "      <td>0.07</td>\n",
              "      <td>0.07</td>\n",
              "      <td>0.09</td>\n",
              "      <td>0.08</td>\n",
              "      <td>0.08</td>\n",
              "      <td>0.01</td>\n",
              "      <td>0.03</td>\n",
              "      <td>0.02</td>\n",
              "      <td>0.00</td>\n",
              "      <td>...</td>\n",
              "      <td>0.41</td>\n",
              "      <td>1.00</td>\n",
              "      <td>0.07</td>\n",
              "      <td>0.02</td>\n",
              "      <td>0.06</td>\n",
              "      <td>0.01</td>\n",
              "      <td>-0.01</td>\n",
              "      <td>0.02</td>\n",
              "      <td>0.01</td>\n",
              "      <td>0.01</td>\n",
              "    </tr>\n",
              "    <tr>\n",
              "      <th>V005</th>\n",
              "      <td>0.22</td>\n",
              "      <td>0.32</td>\n",
              "      <td>0.41</td>\n",
              "      <td>0.34</td>\n",
              "      <td>0.45</td>\n",
              "      <td>0.45</td>\n",
              "      <td>0.29</td>\n",
              "      <td>-0.05</td>\n",
              "      <td>-0.36</td>\n",
              "      <td>-0.03</td>\n",
              "      <td>...</td>\n",
              "      <td>0.28</td>\n",
              "      <td>0.07</td>\n",
              "      <td>1.00</td>\n",
              "      <td>0.42</td>\n",
              "      <td>0.95</td>\n",
              "      <td>0.31</td>\n",
              "      <td>0.95</td>\n",
              "      <td>0.39</td>\n",
              "      <td>0.90</td>\n",
              "      <td>0.27</td>\n",
              "    </tr>\n",
              "    <tr>\n",
              "      <th>V006</th>\n",
              "      <td>0.07</td>\n",
              "      <td>0.12</td>\n",
              "      <td>0.11</td>\n",
              "      <td>0.11</td>\n",
              "      <td>0.11</td>\n",
              "      <td>0.11</td>\n",
              "      <td>0.04</td>\n",
              "      <td>-0.09</td>\n",
              "      <td>-0.10</td>\n",
              "      <td>-0.01</td>\n",
              "      <td>...</td>\n",
              "      <td>0.08</td>\n",
              "      <td>0.02</td>\n",
              "      <td>0.42</td>\n",
              "      <td>1.00</td>\n",
              "      <td>0.56</td>\n",
              "      <td>0.93</td>\n",
              "      <td>0.42</td>\n",
              "      <td>0.89</td>\n",
              "      <td>0.58</td>\n",
              "      <td>0.83</td>\n",
              "    </tr>\n",
              "    <tr>\n",
              "      <th>V007</th>\n",
              "      <td>0.23</td>\n",
              "      <td>0.33</td>\n",
              "      <td>0.41</td>\n",
              "      <td>0.34</td>\n",
              "      <td>0.45</td>\n",
              "      <td>0.45</td>\n",
              "      <td>0.28</td>\n",
              "      <td>-0.07</td>\n",
              "      <td>-0.36</td>\n",
              "      <td>-0.03</td>\n",
              "      <td>...</td>\n",
              "      <td>0.28</td>\n",
              "      <td>0.06</td>\n",
              "      <td>0.95</td>\n",
              "      <td>0.56</td>\n",
              "      <td>1.00</td>\n",
              "      <td>0.50</td>\n",
              "      <td>0.92</td>\n",
              "      <td>0.56</td>\n",
              "      <td>0.96</td>\n",
              "      <td>0.48</td>\n",
              "    </tr>\n",
              "    <tr>\n",
              "      <th>V008</th>\n",
              "      <td>0.05</td>\n",
              "      <td>0.11</td>\n",
              "      <td>0.08</td>\n",
              "      <td>0.08</td>\n",
              "      <td>0.07</td>\n",
              "      <td>0.07</td>\n",
              "      <td>0.02</td>\n",
              "      <td>-0.07</td>\n",
              "      <td>-0.07</td>\n",
              "      <td>-0.01</td>\n",
              "      <td>...</td>\n",
              "      <td>0.06</td>\n",
              "      <td>0.01</td>\n",
              "      <td>0.31</td>\n",
              "      <td>0.93</td>\n",
              "      <td>0.50</td>\n",
              "      <td>1.00</td>\n",
              "      <td>0.33</td>\n",
              "      <td>0.91</td>\n",
              "      <td>0.56</td>\n",
              "      <td>0.95</td>\n",
              "    </tr>\n",
              "    <tr>\n",
              "      <th>V009</th>\n",
              "      <td>0.20</td>\n",
              "      <td>0.31</td>\n",
              "      <td>0.39</td>\n",
              "      <td>0.32</td>\n",
              "      <td>0.47</td>\n",
              "      <td>0.47</td>\n",
              "      <td>0.37</td>\n",
              "      <td>-0.04</td>\n",
              "      <td>-0.38</td>\n",
              "      <td>-0.04</td>\n",
              "      <td>...</td>\n",
              "      <td>0.13</td>\n",
              "      <td>-0.01</td>\n",
              "      <td>0.95</td>\n",
              "      <td>0.42</td>\n",
              "      <td>0.92</td>\n",
              "      <td>0.33</td>\n",
              "      <td>1.00</td>\n",
              "      <td>0.45</td>\n",
              "      <td>0.94</td>\n",
              "      <td>0.34</td>\n",
              "    </tr>\n",
              "    <tr>\n",
              "      <th>V010</th>\n",
              "      <td>0.07</td>\n",
              "      <td>0.13</td>\n",
              "      <td>0.11</td>\n",
              "      <td>0.12</td>\n",
              "      <td>0.13</td>\n",
              "      <td>0.13</td>\n",
              "      <td>0.05</td>\n",
              "      <td>-0.07</td>\n",
              "      <td>-0.10</td>\n",
              "      <td>-0.01</td>\n",
              "      <td>...</td>\n",
              "      <td>0.10</td>\n",
              "      <td>0.02</td>\n",
              "      <td>0.39</td>\n",
              "      <td>0.89</td>\n",
              "      <td>0.56</td>\n",
              "      <td>0.91</td>\n",
              "      <td>0.45</td>\n",
              "      <td>1.00</td>\n",
              "      <td>0.64</td>\n",
              "      <td>0.95</td>\n",
              "    </tr>\n",
              "    <tr>\n",
              "      <th>V011</th>\n",
              "      <td>0.21</td>\n",
              "      <td>0.32</td>\n",
              "      <td>0.40</td>\n",
              "      <td>0.33</td>\n",
              "      <td>0.45</td>\n",
              "      <td>0.45</td>\n",
              "      <td>0.32</td>\n",
              "      <td>-0.07</td>\n",
              "      <td>-0.37</td>\n",
              "      <td>-0.03</td>\n",
              "      <td>...</td>\n",
              "      <td>0.19</td>\n",
              "      <td>0.01</td>\n",
              "      <td>0.90</td>\n",
              "      <td>0.58</td>\n",
              "      <td>0.96</td>\n",
              "      <td>0.56</td>\n",
              "      <td>0.94</td>\n",
              "      <td>0.64</td>\n",
              "      <td>1.00</td>\n",
              "      <td>0.57</td>\n",
              "    </tr>\n",
              "    <tr>\n",
              "      <th>V012</th>\n",
              "      <td>0.05</td>\n",
              "      <td>0.11</td>\n",
              "      <td>0.08</td>\n",
              "      <td>0.09</td>\n",
              "      <td>0.08</td>\n",
              "      <td>0.08</td>\n",
              "      <td>0.02</td>\n",
              "      <td>-0.06</td>\n",
              "      <td>-0.07</td>\n",
              "      <td>-0.00</td>\n",
              "      <td>...</td>\n",
              "      <td>0.07</td>\n",
              "      <td>0.01</td>\n",
              "      <td>0.27</td>\n",
              "      <td>0.83</td>\n",
              "      <td>0.48</td>\n",
              "      <td>0.95</td>\n",
              "      <td>0.34</td>\n",
              "      <td>0.95</td>\n",
              "      <td>0.57</td>\n",
              "      <td>1.00</td>\n",
              "    </tr>\n",
              "  </tbody>\n",
              "</table>\n",
              "<p>22 rows × 22 columns</p>\n",
              "</div>\n",
              "      <button class=\"colab-df-convert\" onclick=\"convertToInteractive('df-4ab554f3-9e9a-41eb-85e9-10fe0dff3edd')\"\n",
              "              title=\"Convert this dataframe to an interactive table.\"\n",
              "              style=\"display:none;\">\n",
              "        \n",
              "  <svg xmlns=\"http://www.w3.org/2000/svg\" height=\"24px\"viewBox=\"0 0 24 24\"\n",
              "       width=\"24px\">\n",
              "    <path d=\"M0 0h24v24H0V0z\" fill=\"none\"/>\n",
              "    <path d=\"M18.56 5.44l.94 2.06.94-2.06 2.06-.94-2.06-.94-.94-2.06-.94 2.06-2.06.94zm-11 1L8.5 8.5l.94-2.06 2.06-.94-2.06-.94L8.5 2.5l-.94 2.06-2.06.94zm10 10l.94 2.06.94-2.06 2.06-.94-2.06-.94-.94-2.06-.94 2.06-2.06.94z\"/><path d=\"M17.41 7.96l-1.37-1.37c-.4-.4-.92-.59-1.43-.59-.52 0-1.04.2-1.43.59L10.3 9.45l-7.72 7.72c-.78.78-.78 2.05 0 2.83L4 21.41c.39.39.9.59 1.41.59.51 0 1.02-.2 1.41-.59l7.78-7.78 2.81-2.81c.8-.78.8-2.07 0-2.86zM5.41 20L4 18.59l7.72-7.72 1.47 1.35L5.41 20z\"/>\n",
              "  </svg>\n",
              "      </button>\n",
              "      \n",
              "  <style>\n",
              "    .colab-df-container {\n",
              "      display:flex;\n",
              "      flex-wrap:wrap;\n",
              "      gap: 12px;\n",
              "    }\n",
              "\n",
              "    .colab-df-convert {\n",
              "      background-color: #E8F0FE;\n",
              "      border: none;\n",
              "      border-radius: 50%;\n",
              "      cursor: pointer;\n",
              "      display: none;\n",
              "      fill: #1967D2;\n",
              "      height: 32px;\n",
              "      padding: 0 0 0 0;\n",
              "      width: 32px;\n",
              "    }\n",
              "\n",
              "    .colab-df-convert:hover {\n",
              "      background-color: #E2EBFA;\n",
              "      box-shadow: 0px 1px 2px rgba(60, 64, 67, 0.3), 0px 1px 3px 1px rgba(60, 64, 67, 0.15);\n",
              "      fill: #174EA6;\n",
              "    }\n",
              "\n",
              "    [theme=dark] .colab-df-convert {\n",
              "      background-color: #3B4455;\n",
              "      fill: #D2E3FC;\n",
              "    }\n",
              "\n",
              "    [theme=dark] .colab-df-convert:hover {\n",
              "      background-color: #434B5C;\n",
              "      box-shadow: 0px 1px 3px 1px rgba(0, 0, 0, 0.15);\n",
              "      filter: drop-shadow(0px 1px 2px rgba(0, 0, 0, 0.3));\n",
              "      fill: #FFFFFF;\n",
              "    }\n",
              "  </style>\n",
              "\n",
              "      <script>\n",
              "        const buttonEl =\n",
              "          document.querySelector('#df-4ab554f3-9e9a-41eb-85e9-10fe0dff3edd button.colab-df-convert');\n",
              "        buttonEl.style.display =\n",
              "          google.colab.kernel.accessAllowed ? 'block' : 'none';\n",
              "\n",
              "        async function convertToInteractive(key) {\n",
              "          const element = document.querySelector('#df-4ab554f3-9e9a-41eb-85e9-10fe0dff3edd');\n",
              "          const dataTable =\n",
              "            await google.colab.kernel.invokeFunction('convertToInteractive',\n",
              "                                                     [key], {});\n",
              "          if (!dataTable) return;\n",
              "\n",
              "          const docLinkHtml = 'Like what you see? Visit the ' +\n",
              "            '<a target=\"_blank\" href=https://colab.research.google.com/notebooks/data_table.ipynb>data table notebook</a>'\n",
              "            + ' to learn more about interactive tables.';\n",
              "          element.innerHTML = '';\n",
              "          dataTable['output_type'] = 'display_data';\n",
              "          await google.colab.output.renderOutput(dataTable, element);\n",
              "          const docLink = document.createElement('div');\n",
              "          docLink.innerHTML = docLinkHtml;\n",
              "          element.appendChild(docLink);\n",
              "        }\n",
              "      </script>\n",
              "    </div>\n",
              "  </div>\n",
              "  "
            ]
          },
          "metadata": {},
          "execution_count": 77
        }
      ]
    },
    {
      "cell_type": "code",
      "source": [
        "# o que temos nessa visualização é que estamos removendo tudo o que temos no\n",
        "# triângulo superior; quanto mais próximo de 1, maior a correlação\n",
        "\n",
        "plt.figure(figsize=(18, 8))\n",
        "#https://www.tylervigen.com/spurious-correlations\n",
        "mask=np.triu(np.ones_like(dados_vendas_censo.corr(), dtype=bool))\n",
        "heatmap=sns.heatmap(dados_vendas_censo.corr(), mask=mask, vmin=-1, vmax=1, annot=True, cmap='BrBG')\n",
        "heatmap.set_title('Correlação', fontdict={'fontsize':18}, pad=16);"
      ],
      "metadata": {
        "colab": {
          "base_uri": "https://localhost:8080/",
          "height": 587
        },
        "id": "ndVU4-J60Yoe",
        "outputId": "37dd9a59-94b3-41de-d22d-22d5feaf71a9"
      },
      "execution_count": 78,
      "outputs": [
        {
          "output_type": "display_data",
          "data": {
            "text/plain": [
              "<Figure size 1296x576 with 2 Axes>"
            ],
            "image/png": "[encoded data removed]"
          },
          "metadata": {}
        }
      ]
    },
    {
      "cell_type": "code",
      "source": [
        "# vamos trabalhar com um biblioteca nova e com regressão\n",
        "# usamos regressão para predizer um valor contínuo\n",
        "\n",
        "from sklearn.linear_model import LinearRegression\n",
        "from sklearn.model_selection import train_test_split\n",
        "\n",
        "#precisamos agora treinar nosso modelo\n",
        "\n",
        "X = dados_vendas_censo[['Metragem']]\n",
        "Y = dados_vendas_censo['Valor_anuncio']\n",
        "\n",
        "X_train, X_test, Y_train, Y_test = train_test_split(X, Y, test_size=0.25, random_state=54)\n",
        "lr = LinearRegression()"
      ],
      "metadata": {
        "id": "6SvqSypd0WiN"
      },
      "execution_count": 79,
      "outputs": []
    },
    {
      "cell_type": "code",
      "source": [
        "X_train"
      ],
      "metadata": {
        "colab": {
          "base_uri": "https://localhost:8080/",
          "height": 423
        },
        "id": "vVjNax3xLrga",
        "outputId": "b3edbc67-4630-4235-af79-d40948dcbe96"
      },
      "execution_count": 80,
      "outputs": [
        {
          "output_type": "execute_result",
          "data": {
            "text/plain": [
              "      Metragem\n",
              "3522       105\n",
              "881        240\n",
              "769        324\n",
              "3364       484\n",
              "4674       103\n",
              "...        ...\n",
              "3558       397\n",
              "3994       224\n",
              "5432       238\n",
              "4044       300\n",
              "948        186\n",
              "\n",
              "[3977 rows x 1 columns]"
            ],
            "text/html": [
              "\n",
              "  <div id=\"df-0ab3de20-43fe-41f9-915b-ecd53dde0ff2\">\n",
              "    <div class=\"colab-df-container\">\n",
              "      <div>\n",
              "<style scoped>\n",
              "    .dataframe tbody tr th:only-of-type {\n",
              "        vertical-align: middle;\n",
              "    }\n",
              "\n",
              "    .dataframe tbody tr th {\n",
              "        vertical-align: top;\n",
              "    }\n",
              "\n",
              "    .dataframe thead th {\n",
              "        text-align: right;\n",
              "    }\n",
              "</style>\n",
              "<table border=\"1\" class=\"dataframe\">\n",
              "  <thead>\n",
              "    <tr style=\"text-align: right;\">\n",
              "      <th></th>\n",
              "      <th>Metragem</th>\n",
              "    </tr>\n",
              "  </thead>\n",
              "  <tbody>\n",
              "    <tr>\n",
              "      <th>3522</th>\n",
              "      <td>105</td>\n",
              "    </tr>\n",
              "    <tr>\n",
              "      <th>881</th>\n",
              "      <td>240</td>\n",
              "    </tr>\n",
              "    <tr>\n",
              "      <th>769</th>\n",
              "      <td>324</td>\n",
              "    </tr>\n",
              "    <tr>\n",
              "      <th>3364</th>\n",
              "      <td>484</td>\n",
              "    </tr>\n",
              "    <tr>\n",
              "      <th>4674</th>\n",
              "      <td>103</td>\n",
              "    </tr>\n",
              "    <tr>\n",
              "      <th>...</th>\n",
              "      <td>...</td>\n",
              "    </tr>\n",
              "    <tr>\n",
              "      <th>3558</th>\n",
              "      <td>397</td>\n",
              "    </tr>\n",
              "    <tr>\n",
              "      <th>3994</th>\n",
              "      <td>224</td>\n",
              "    </tr>\n",
              "    <tr>\n",
              "      <th>5432</th>\n",
              "      <td>238</td>\n",
              "    </tr>\n",
              "    <tr>\n",
              "      <th>4044</th>\n",
              "      <td>300</td>\n",
              "    </tr>\n",
              "    <tr>\n",
              "      <th>948</th>\n",
              "      <td>186</td>\n",
              "    </tr>\n",
              "  </tbody>\n",
              "</table>\n",
              "<p>3977 rows × 1 columns</p>\n",
              "</div>\n",
              "      <button class=\"colab-df-convert\" onclick=\"convertToInteractive('df-0ab3de20-43fe-41f9-915b-ecd53dde0ff2')\"\n",
              "              title=\"Convert this dataframe to an interactive table.\"\n",
              "              style=\"display:none;\">\n",
              "        \n",
              "  <svg xmlns=\"http://www.w3.org/2000/svg\" height=\"24px\"viewBox=\"0 0 24 24\"\n",
              "       width=\"24px\">\n",
              "    <path d=\"M0 0h24v24H0V0z\" fill=\"none\"/>\n",
              "    <path d=\"M18.56 5.44l.94 2.06.94-2.06 2.06-.94-2.06-.94-.94-2.06-.94 2.06-2.06.94zm-11 1L8.5 8.5l.94-2.06 2.06-.94-2.06-.94L8.5 2.5l-.94 2.06-2.06.94zm10 10l.94 2.06.94-2.06 2.06-.94-2.06-.94-.94-2.06-.94 2.06-2.06.94z\"/><path d=\"M17.41 7.96l-1.37-1.37c-.4-.4-.92-.59-1.43-.59-.52 0-1.04.2-1.43.59L10.3 9.45l-7.72 7.72c-.78.78-.78 2.05 0 2.83L4 21.41c.39.39.9.59 1.41.59.51 0 1.02-.2 1.41-.59l7.78-7.78 2.81-2.81c.8-.78.8-2.07 0-2.86zM5.41 20L4 18.59l7.72-7.72 1.47 1.35L5.41 20z\"/>\n",
              "  </svg>\n",
              "      </button>\n",
              "      \n",
              "  <style>\n",
              "    .colab-df-container {\n",
              "      display:flex;\n",
              "      flex-wrap:wrap;\n",
              "      gap: 12px;\n",
              "    }\n",
              "\n",
              "    .colab-df-convert {\n",
              "      background-color: #E8F0FE;\n",
              "      border: none;\n",
              "      border-radius: 50%;\n",
              "      cursor: pointer;\n",
              "      display: none;\n",
              "      fill: #1967D2;\n",
              "      height: 32px;\n",
              "      padding: 0 0 0 0;\n",
              "      width: 32px;\n",
              "    }\n",
              "\n",
              "    .colab-df-convert:hover {\n",
              "      background-color: #E2EBFA;\n",
              "      box-shadow: 0px 1px 2px rgba(60, 64, 67, 0.3), 0px 1px 3px 1px rgba(60, 64, 67, 0.15);\n",
              "      fill: #174EA6;\n",
              "    }\n",
              "\n",
              "    [theme=dark] .colab-df-convert {\n",
              "      background-color: #3B4455;\n",
              "      fill: #D2E3FC;\n",
              "    }\n",
              "\n",
              "    [theme=dark] .colab-df-convert:hover {\n",
              "      background-color: #434B5C;\n",
              "      box-shadow: 0px 1px 3px 1px rgba(0, 0, 0, 0.15);\n",
              "      filter: drop-shadow(0px 1px 2px rgba(0, 0, 0, 0.3));\n",
              "      fill: #FFFFFF;\n",
              "    }\n",
              "  </style>\n",
              "\n",
              "      <script>\n",
              "        const buttonEl =\n",
              "          document.querySelector('#df-0ab3de20-43fe-41f9-915b-ecd53dde0ff2 button.colab-df-convert');\n",
              "        buttonEl.style.display =\n",
              "          google.colab.kernel.accessAllowed ? 'block' : 'none';\n",
              "\n",
              "        async function convertToInteractive(key) {\n",
              "          const element = document.querySelector('#df-0ab3de20-43fe-41f9-915b-ecd53dde0ff2');\n",
              "          const dataTable =\n",
              "            await google.colab.kernel.invokeFunction('convertToInteractive',\n",
              "                                                     [key], {});\n",
              "          if (!dataTable) return;\n",
              "\n",
              "          const docLinkHtml = 'Like what you see? Visit the ' +\n",
              "            '<a target=\"_blank\" href=https://colab.research.google.com/notebooks/data_table.ipynb>data table notebook</a>'\n",
              "            + ' to learn more about interactive tables.';\n",
              "          element.innerHTML = '';\n",
              "          dataTable['output_type'] = 'display_data';\n",
              "          await google.colab.output.renderOutput(dataTable, element);\n",
              "          const docLink = document.createElement('div');\n",
              "          docLink.innerHTML = docLinkHtml;\n",
              "          element.appendChild(docLink);\n",
              "        }\n",
              "      </script>\n",
              "    </div>\n",
              "  </div>\n",
              "  "
            ]
          },
          "metadata": {},
          "execution_count": 80
        }
      ]
    },
    {
      "cell_type": "code",
      "source": [
        "Y_train"
      ],
      "metadata": {
        "colab": {
          "base_uri": "https://localhost:8080/"
        },
        "id": "3naQEPX4LutP",
        "outputId": "5e9ca7cf-abef-41fa-98e2-3191a4998cc0"
      },
      "execution_count": 81,
      "outputs": [
        {
          "output_type": "execute_result",
          "data": {
            "text/plain": [
              "3522    692000.00\n",
              "881    1490000.00\n",
              "769    2100000.00\n",
              "3364   6700000.00\n",
              "4674    622500.00\n",
              "          ...    \n",
              "3558   4280000.00\n",
              "3994   1500000.00\n",
              "5432   2300000.00\n",
              "4044   1600000.00\n",
              "948    3280000.00\n",
              "Name: Valor_anuncio, Length: 3977, dtype: float64"
            ]
          },
          "metadata": {},
          "execution_count": 81
        }
      ]
    },
    {
      "cell_type": "code",
      "source": [
        "# treinando o meu modelo\n",
        "\n",
        "lr.fit(X_train, Y_train)"
      ],
      "metadata": {
        "colab": {
          "base_uri": "https://localhost:8080/"
        },
        "id": "W17RdUziEQLY",
        "outputId": "e82fad27-1c0c-41b6-813f-e8bb52a66435"
      },
      "execution_count": 82,
      "outputs": [
        {
          "output_type": "execute_result",
          "data": {
            "text/plain": [
              "LinearRegression()"
            ]
          },
          "metadata": {},
          "execution_count": 82
        }
      ]
    },
    {
      "cell_type": "code",
      "source": [
        "# vamos então fazer uma predição\n",
        "# colocando dentro de uma variável\n",
        "# x representa as features e não o resultado, por isso usamos Y aqui\n",
        "\n",
        "Y_predict_test = lr.predict(X_test)"
      ],
      "metadata": {
        "id": "Y04EYuqYEQ4I"
      },
      "execution_count": 83,
      "outputs": []
    },
    {
      "cell_type": "code",
      "source": [
        "Y_test"
      ],
      "metadata": {
        "colab": {
          "base_uri": "https://localhost:8080/"
        },
        "id": "XMC7W1lAMWkG",
        "outputId": "c9bc3bbc-a171-4e70-efbc-cf1710e3bd8c"
      },
      "execution_count": 84,
      "outputs": [
        {
          "output_type": "execute_result",
          "data": {
            "text/plain": [
              "172    4500000.00\n",
              "4513    345000.00\n",
              "4865    800000.00\n",
              "4979   4000000.00\n",
              "1255   5100000.00\n",
              "          ...    \n",
              "5240   1600000.00\n",
              "4472    580000.00\n",
              "3291   2200000.00\n",
              "432    1500000.00\n",
              "2455   2800000.00\n",
              "Name: Valor_anuncio, Length: 1326, dtype: float64"
            ]
          },
          "metadata": {},
          "execution_count": 84
        }
      ]
    },
    {
      "cell_type": "code",
      "source": [
        "# fazendo o mesmo, mas agora com os valores de treino\n",
        "# colocaremos tbm na variável\n",
        "\n",
        "Y_predict_train = lr.predict(X_train)"
      ],
      "metadata": {
        "id": "VEVxwXwUMZO1"
      },
      "execution_count": 85,
      "outputs": []
    },
    {
      "cell_type": "code",
      "source": [
        "Y_train"
      ],
      "metadata": {
        "colab": {
          "base_uri": "https://localhost:8080/"
        },
        "id": "TpcI1cXgNnbd",
        "outputId": "dc52b7fb-89a5-4bed-a902-1ed8e55f226d"
      },
      "execution_count": 86,
      "outputs": [
        {
          "output_type": "execute_result",
          "data": {
            "text/plain": [
              "3522    692000.00\n",
              "881    1490000.00\n",
              "769    2100000.00\n",
              "3364   6700000.00\n",
              "4674    622500.00\n",
              "          ...    \n",
              "3558   4280000.00\n",
              "3994   1500000.00\n",
              "5432   2300000.00\n",
              "4044   1600000.00\n",
              "948    3280000.00\n",
              "Name: Valor_anuncio, Length: 3977, dtype: float64"
            ]
          },
          "metadata": {},
          "execution_count": 86
        }
      ]
    },
    {
      "cell_type": "code",
      "source": [
        "from sklearn.metrics import mean_absolute_error, r2_score\n",
        "\n",
        "mean_absolute_error(Y_test, Y_predict_test)"
      ],
      "metadata": {
        "colab": {
          "base_uri": "https://localhost:8080/"
        },
        "id": "1oUnwyKRNowc",
        "outputId": "f9610b35-955a-4ca8-b9e5-5390776e70bd"
      },
      "execution_count": 87,
      "outputs": [
        {
          "output_type": "execute_result",
          "data": {
            "text/plain": [
              "1770626.9062636306"
            ]
          },
          "metadata": {},
          "execution_count": 87
        }
      ]
    },
    {
      "cell_type": "code",
      "source": [
        "mean_absolute_error(Y_train, Y_predict_train)"
      ],
      "metadata": {
        "colab": {
          "base_uri": "https://localhost:8080/"
        },
        "id": "fsXTbyZXOxgV",
        "outputId": "fc3df9cd-a6dd-4cae-9441-2b16f019672c"
      },
      "execution_count": 88,
      "outputs": [
        {
          "output_type": "execute_result",
          "data": {
            "text/plain": [
              "1825220.3034549057"
            ]
          },
          "metadata": {},
          "execution_count": 88
        }
      ]
    },
    {
      "cell_type": "code",
      "source": [
        "# devido aos valores insatisfatórios, iremos agora criar um modelo de regressão\n",
        "# multilinear com várias variáveis\n",
        "\n",
        "X = dados_vendas_censo[['Metragem', 'Quartos', 'Banheiros', 'Vagas', 'latitude', 'longitude' ,'Situacao_setor', 'V001', 'V002', 'V003', 'V004', 'V005', 'V006', 'V007', 'V008', 'V009', 'V010', 'V011', 'V012']]\n",
        "\n",
        "Y = dados_vendas_censo['Valor_anuncio']\n",
        "\n",
        "X_train, X_test, Y_train, Y_test = train_test_split(X, Y, test_size=0.25, random_state=54)\n",
        "lr.fit(X_train, Y_train)\n",
        "Y_predict_test = lr.predict(X_test)\n",
        "Y_predict_train = lr.predict(X_train)\n",
        "mae_test = mean_absolute_error(Y_test, Y_predict_test)\n",
        "r2_test = r2_score(Y_test, Y_predict_test)\n",
        "mae_train = mean_absolute_error(Y_train, Y_predict_train)\n",
        "r2_train = r2_score(Y_train, Y_predict_train)\n"
      ],
      "metadata": {
        "id": "WkD735mVO0c0"
      },
      "execution_count": 89,
      "outputs": []
    },
    {
      "cell_type": "code",
      "source": [
        "mae_test"
      ],
      "metadata": {
        "colab": {
          "base_uri": "https://localhost:8080/"
        },
        "id": "Bj831ljvSRdP",
        "outputId": "e6b6a1ad-a8fd-40a5-bad3-c8a7d22f9ba1"
      },
      "execution_count": 90,
      "outputs": [
        {
          "output_type": "execute_result",
          "data": {
            "text/plain": [
              "1333549.3313258274"
            ]
          },
          "metadata": {},
          "execution_count": 90
        }
      ]
    },
    {
      "cell_type": "code",
      "source": [
        "r2_test"
      ],
      "metadata": {
        "colab": {
          "base_uri": "https://localhost:8080/"
        },
        "id": "_FTfO64-S9l7",
        "outputId": "99f8bfc6-fdff-45b6-c50f-c5994d6ebb6b"
      },
      "execution_count": 91,
      "outputs": [
        {
          "output_type": "execute_result",
          "data": {
            "text/plain": [
              "0.40346952435618333"
            ]
          },
          "metadata": {},
          "execution_count": 91
        }
      ]
    },
    {
      "cell_type": "code",
      "source": [
        "mae_train"
      ],
      "metadata": {
        "colab": {
          "base_uri": "https://localhost:8080/"
        },
        "id": "mNEdghTOS_wC",
        "outputId": "b11e1aed-b4ed-4499-fe74-1589b9e3b9f6"
      },
      "execution_count": 92,
      "outputs": [
        {
          "output_type": "execute_result",
          "data": {
            "text/plain": [
              "1336869.5593876368"
            ]
          },
          "metadata": {},
          "execution_count": 92
        }
      ]
    },
    {
      "cell_type": "code",
      "source": [
        "r2_train"
      ],
      "metadata": {
        "colab": {
          "base_uri": "https://localhost:8080/"
        },
        "id": "d5q0lcQ7UO1w",
        "outputId": "480d8f39-eac8-4132-9078-5c96604df26e"
      },
      "execution_count": 93,
      "outputs": [
        {
          "output_type": "execute_result",
          "data": {
            "text/plain": [
              "0.42842167415102017"
            ]
          },
          "metadata": {},
          "execution_count": 93
        }
      ]
    },
    {
      "cell_type": "code",
      "source": [
        "plt.figure(figsize=(10, 10))\n",
        "sns.scatterplot(x=Y_test, y=Y_predict_test)"
      ],
      "metadata": {
        "colab": {
          "base_uri": "https://localhost:8080/",
          "height": 640
        },
        "id": "KDdUa1T6UpGI",
        "outputId": "67753b98-5c31-4565-c956-e8706261e584"
      },
      "execution_count": 94,
      "outputs": [
        {
          "output_type": "execute_result",
          "data": {
            "text/plain": [
              "<matplotlib.axes._subplots.AxesSubplot at 0x7f260708fe90>"
            ]
          },
          "metadata": {},
          "execution_count": 94
        },
        {
          "output_type": "display_data",
          "data": {
            "text/plain": [
              "<Figure size 720x720 with 1 Axes>"
            ],
            "image/png": "[encoded data removed]"
          },
          "metadata": {}
        }
      ]
    },
    {
      "cell_type": "code",
      "source": [
        "# nova rodada de análises, agora com menos variáveis\n",
        "\n",
        "X = dados_vendas_censo[['Metragem', 'Quartos', 'Banheiros', 'Vagas', 'V001',\n",
        "                        'V007', 'V009']]\n",
        "\n",
        "Y = dados_vendas_censo['Valor_anuncio']\n",
        "\n",
        "X_train, X_test, Y_train, Y_test = train_test_split(X, Y, test_size=0.25, \n",
        "                                                    random_state=54)\n",
        "lr.fit(X_train, Y_train)\n",
        "Y_predict_test = lr.predict(X_test)\n",
        "Y_predict_train = lr.predict(X_train)\n",
        "mae_test = mean_absolute_error(Y_test, Y_predict_test)\n",
        "r2_test = r2_score(Y_test, Y_predict_test)\n",
        "mae_train = mean_absolute_error(Y_train, Y_predict_train)\n",
        "r2_train = r2_score(Y_train, Y_predict_train)"
      ],
      "metadata": {
        "id": "xMPCgahaU2Yp"
      },
      "execution_count": 95,
      "outputs": []
    },
    {
      "cell_type": "code",
      "source": [
        "mae_test"
      ],
      "metadata": {
        "colab": {
          "base_uri": "https://localhost:8080/"
        },
        "id": "RfQWCrJtWFCJ",
        "outputId": "2e39a34d-f87a-4e02-f897-07ed2a18ac02"
      },
      "execution_count": 96,
      "outputs": [
        {
          "output_type": "execute_result",
          "data": {
            "text/plain": [
              "1349590.384432537"
            ]
          },
          "metadata": {},
          "execution_count": 96
        }
      ]
    },
    {
      "cell_type": "code",
      "source": [
        "r2_test"
      ],
      "metadata": {
        "colab": {
          "base_uri": "https://localhost:8080/"
        },
        "id": "ymq4FqAcWI9p",
        "outputId": "cee77640-2933-4bc7-8be2-d5b9e5681d50"
      },
      "execution_count": 97,
      "outputs": [
        {
          "output_type": "execute_result",
          "data": {
            "text/plain": [
              "0.37745069254620534"
            ]
          },
          "metadata": {},
          "execution_count": 97
        }
      ]
    },
    {
      "cell_type": "code",
      "source": [
        "mae_train"
      ],
      "metadata": {
        "colab": {
          "base_uri": "https://localhost:8080/"
        },
        "id": "U-oDErdiWJZS",
        "outputId": "65d529ab-4030-45a1-a60c-802a5b746b5f"
      },
      "execution_count": 98,
      "outputs": [
        {
          "output_type": "execute_result",
          "data": {
            "text/plain": [
              "1362945.691504754"
            ]
          },
          "metadata": {},
          "execution_count": 98
        }
      ]
    },
    {
      "cell_type": "code",
      "source": [
        "r2_train"
      ],
      "metadata": {
        "colab": {
          "base_uri": "https://localhost:8080/"
        },
        "id": "WgCWM3MMWLTQ",
        "outputId": "7d07ff54-532c-4c26-8ac9-cc6d288af748"
      },
      "execution_count": 99,
      "outputs": [
        {
          "output_type": "execute_result",
          "data": {
            "text/plain": [
              "0.39899592785823335"
            ]
          },
          "metadata": {},
          "execution_count": 99
        }
      ]
    },
    {
      "cell_type": "code",
      "source": [
        "plt.figure(figsize=(10, 10))\n",
        "sns.scatterplot(x=Y_test, y=Y_predict_test)"
      ],
      "metadata": {
        "colab": {
          "base_uri": "https://localhost:8080/",
          "height": 640
        },
        "id": "jL8BCZEnWM8A",
        "outputId": "0005758c-8af7-455e-c610-9755a687e3d6"
      },
      "execution_count": 100,
      "outputs": [
        {
          "output_type": "execute_result",
          "data": {
            "text/plain": [
              "<matplotlib.axes._subplots.AxesSubplot at 0x7f2606c33d90>"
            ]
          },
          "metadata": {},
          "execution_count": 100
        },
        {
          "output_type": "display_data",
          "data": {
            "text/plain": [
              "<Figure size 720x720 with 1 Axes>"
            ],
            "image/png": "[encoded data removed]"
          },
          "metadata": {}
        }
      ]
    },
    {
      "cell_type": "code",
      "source": [
        ""
      ],
      "metadata": {
        "id": "vV9PgycVWO6C"
      },
      "execution_count": 100,
      "outputs": []
    },
    {
      "cell_type": "markdown",
      "source": [
        "## **⚠ Desafio 01**\n",
        "\n",
        "Adicionar o valor \"real\" do m² do imóvel."
      ],
      "metadata": {
        "id": "1mZMEq7GhrqQ"
      }
    },
    {
      "cell_type": "code",
      "source": [
        ""
      ],
      "metadata": {
        "id": "3g8CcMgLhxQ0"
      },
      "execution_count": 100,
      "outputs": []
    },
    {
      "cell_type": "markdown",
      "source": [
        "## **⚠ Desafio 02**\n",
        "\n",
        "Testar outro modelo de regressão."
      ],
      "metadata": {
        "id": "h4PTaL8ghzdp"
      }
    },
    {
      "cell_type": "code",
      "source": [
        ""
      ],
      "metadata": {
        "id": "CrPdg-RRh1qT"
      },
      "execution_count": 100,
      "outputs": []
    },
    {
      "cell_type": "markdown",
      "source": [
        "## **⚠ Desafio 03**\n",
        "\n",
        "Criar um modelo baseline com as features originais.\n"
      ],
      "metadata": {
        "id": "GfgV9mAJh2IO"
      }
    },
    {
      "cell_type": "code",
      "source": [
        ""
      ],
      "metadata": {
        "id": "CBpuGth9h4jb"
      },
      "execution_count": 100,
      "outputs": []
    },
    {
      "cell_type": "markdown",
      "source": [
        "## **⚠ Desafio 04**\n",
        "\n",
        "Trabalhar mais nos dados e criar novas variáveis."
      ],
      "metadata": {
        "id": "AbAny8jXh5Eq"
      }
    },
    {
      "cell_type": "code",
      "source": [
        ""
      ],
      "metadata": {
        "id": "mfsCdI83h7ji"
      },
      "execution_count": 100,
      "outputs": []
    },
    {
      "cell_type": "markdown",
      "source": [
        "## **⚠ Desafio 05**\n",
        "\n",
        "Testar as predições para casos reais.\n"
      ],
      "metadata": {
        "id": "XVgEw9QTh8CR"
      }
    },
    {
      "cell_type": "code",
      "source": [
        ""
      ],
      "metadata": {
        "id": "YFFhXa_Qh-FT"
      },
      "execution_count": 100,
      "outputs": []
    },
    {
      "cell_type": "markdown",
      "source": [
        "## **⚠ Desafio 06**\n",
        "\n",
        "Criar um projeto com os resultados da Imersão e postar nas redes sociais mostrando o trabalho realizado. Lembre-se de marcar a @AluraOnline e utilizar as hashtags #ImersãoDados e #ImersãoDados4."
      ],
      "metadata": {
        "id": "2hsOF_vLh_o9"
      }
    },
    {
      "cell_type": "code",
      "source": [
        ""
      ],
      "metadata": {
        "id": "MFwUbnyQiArz"
      },
      "execution_count": 100,
      "outputs": []
    }
  ]
}